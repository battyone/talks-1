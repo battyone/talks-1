{
 "cells": [
  {
   "cell_type": "markdown",
   "metadata": {
    "slideshow": {
     "slide_type": "slide"
    }
   },
   "source": [
    "# Python GUI Frameworks\n",
    "\n",
    "Mike Driscoll (@driscollis)"
   ]
  },
  {
   "cell_type": "markdown",
   "metadata": {
    "slideshow": {
     "slide_type": "slide"
    }
   },
   "source": [
    "# Desktop GUI Frameworks\n",
    "\n",
    "* [PyQt5](https://riverbankcomputing.com/software/pyqt/intro)\n",
    "* [Qt for Python](https://wiki.qt.io/Qt_for_Python) (PySide)\n",
    "* [Tkinter](https://docs.python.org/3/library/tkinter.html)\n",
    "* [wxPython](https://www.wxpython.org/)"
   ]
  },
  {
   "cell_type": "markdown",
   "metadata": {
    "slideshow": {
     "slide_type": "slide"
    }
   },
   "source": [
    "# Desktop + Mobile GUI Frameworks\n",
    "\n",
    "* [Kivy](https://kivy.org/#home)\n",
    "* [Toga](https://toga.readthedocs.io/en/latest/)\n",
    "* [PyQt5](https://riverbankcomputing.com/software/pyqt/intro)"
   ]
  },
  {
   "cell_type": "markdown",
   "metadata": {
    "slideshow": {
     "slide_type": "slide"
    }
   },
   "source": [
    "# Simple GUI Frameworks\n",
    "\n",
    "* [PySimpleGUI](https://pysimplegui.readthedocs.io/en/latest/) - Wraps Tkinter, wxPython, PyQt5, Remy\n",
    "* [EasyGUI](https://pypi.org/project/easygui/) - Tkinter wrapper\n",
    "* [Guietta](https://guietta.readthedocs.io/en/stable/) - PyQt5 wrapper"
   ]
  },
  {
   "cell_type": "markdown",
   "metadata": {
    "slideshow": {
     "slide_type": "slide"
    }
   },
   "source": [
    "# What Makes a GUI?\n",
    "\n",
    "* Widgets\n",
    "* Geometry Managers\n",
    "* Events"
   ]
  },
  {
   "cell_type": "markdown",
   "metadata": {
    "slideshow": {
     "slide_type": "slide"
    }
   },
   "source": [
    "# wxPython\n",
    "\n",
    "* [Documentation](https://docs.wxpython.org/)\n",
    "* wxPython Demo Package"
   ]
  },
  {
   "cell_type": "markdown",
   "metadata": {
    "slideshow": {
     "slide_type": "slide"
    }
   },
   "source": [
    "# Live Demo"
   ]
  },
  {
   "cell_type": "markdown",
   "metadata": {
    "slideshow": {
     "slide_type": "slide"
    }
   },
   "source": [
    "# Questions"
   ]
  },
  {
   "cell_type": "code",
   "execution_count": null,
   "metadata": {},
   "outputs": [],
   "source": []
  }
 ],
 "metadata": {
  "celltoolbar": "Slideshow",
  "kernelspec": {
   "display_name": "Python 3",
   "language": "python",
   "name": "python3"
  },
  "language_info": {
   "codemirror_mode": {
    "name": "ipython",
    "version": 3
   },
   "file_extension": ".py",
   "mimetype": "text/x-python",
   "name": "python",
   "nbconvert_exporter": "python",
   "pygments_lexer": "ipython3",
   "version": "3.8.1"
  }
 },
 "nbformat": 4,
 "nbformat_minor": 4
}
