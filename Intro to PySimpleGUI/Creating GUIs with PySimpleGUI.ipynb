{
 "cells": [
  {
   "cell_type": "markdown",
   "metadata": {
    "slideshow": {
     "slide_type": "slide"
    }
   },
   "source": [
    "# Creating GUIs with PySimpleGUI\n",
    "\n",
    "Mike Driscoll\n",
    "\n",
    "[@driscollis](https://twitter.com/driscollis)"
   ]
  },
  {
   "cell_type": "markdown",
   "metadata": {
    "slideshow": {
     "slide_type": "slide"
    }
   },
   "source": [
    "# About Me\n",
    "\n",
    "I author books and write articles at\n",
    "\n",
    " * https://www.blog.pythonlibrary.org/\n",
    " * https://realpython.com/\n",
    " \n",
    "I also write Python books"
   ]
  },
  {
   "cell_type": "markdown",
   "metadata": {
    "slideshow": {
     "slide_type": "slide"
    }
   },
   "source": [
    "# PySimpleGUI has four ports\n",
    "\n",
    "* Tkinter (the default)\n",
    "* PySide\n",
    "* wxPython\n",
    "* Remi (web)\n",
    "\n",
    "https://pysimplegui.readthedocs.io"
   ]
  },
  {
   "cell_type": "markdown",
   "metadata": {
    "slideshow": {
     "slide_type": "slide"
    }
   },
   "source": [
    "PySimpleGUI wraps the entirety of Tkinter, which comes with Python."
   ]
  },
  {
   "cell_type": "markdown",
   "metadata": {
    "slideshow": {
     "slide_type": "slide"
    }
   },
   "source": [
    "# Installation\n",
    "\n",
    "\n",
    "`python -m pip install pysimplegui`\n"
   ]
  },
  {
   "cell_type": "markdown",
   "metadata": {
    "slideshow": {
     "slide_type": "slide"
    }
   },
   "source": [
    "# Creating a Simple App"
   ]
  },
  {
   "cell_type": "code",
   "execution_count": 1,
   "metadata": {
    "slideshow": {
     "slide_type": "subslide"
    }
   },
   "outputs": [
    {
     "data": {
      "text/plain": [
       "(None, [])"
      ]
     },
     "execution_count": 1,
     "metadata": {},
     "output_type": "execute_result"
    }
   ],
   "source": [
    "# hello_world.py\n",
    "\n",
    "import PySimpleGUI as sg\n",
    "\n",
    "sg.Window(title=\"Hello World\", layout=[[]], margins=(100, 50)).read()"
   ]
  },
  {
   "cell_type": "markdown",
   "metadata": {
    "slideshow": {
     "slide_type": "slide"
    }
   },
   "source": [
    "# Adding a Button Element"
   ]
  },
  {
   "cell_type": "code",
   "execution_count": 2,
   "metadata": {
    "slideshow": {
     "slide_type": "subslide"
    }
   },
   "outputs": [],
   "source": [
    "import PySimpleGUI as sg\n",
    "\n",
    "layout = [[sg.Text(\"Hello from PySimpleGUI\")], [sg.Button(\"OK\")]]\n",
    "\n",
    "# Create the window\n",
    "window = sg.Window(\"Demo\", layout)\n",
    "\n",
    "# Create an event loop\n",
    "while True:\n",
    "    event, values = window.read()\n",
    "    # End program if user closes window or\n",
    "    # presses the OK button\n",
    "    if event == \"OK\" or event == sg.WIN_CLOSED:\n",
    "        break\n",
    "\n",
    "window.close()"
   ]
  },
  {
   "cell_type": "markdown",
   "metadata": {
    "slideshow": {
     "slide_type": "slide"
    }
   },
   "source": [
    "# Laying Out Elements\n",
    "\n",
    "* Sizers (wxPython)\n",
    "* Layouts (PyQt / PySide)\n",
    "* Geometry manager (Tkinter)\n",
    "* Lists of lists (PySimpleGUI)"
   ]
  },
  {
   "cell_type": "markdown",
   "metadata": {
    "slideshow": {
     "slide_type": "slide"
    }
   },
   "source": [
    "# Horizontal Layout\n",
    "\n",
    "## Using a list comprehension \n"
   ]
  },
  {
   "cell_type": "code",
   "execution_count": 3,
   "metadata": {
    "slideshow": {
     "slide_type": "subslide"
    }
   },
   "outputs": [],
   "source": [
    "import PySimpleGUI as sg\n",
    "\n",
    "# Horizontal layout\n",
    "layout = [[sg.Button(f\"OK {num}\") for num in range(1, 6)]]\n",
    "\n",
    "# Create the window\n",
    "window = sg.Window(\"Demo\", layout)\n",
    "\n",
    "# Create an event loop\n",
    "while True:\n",
    "    event, values = window.read()\n",
    "    if event == \"OK\" or event == sg.WIN_CLOSED:\n",
    "        break\n",
    "\n",
    "window.close()"
   ]
  },
  {
   "cell_type": "markdown",
   "metadata": {
    "slideshow": {
     "slide_type": "slide"
    }
   },
   "source": [
    "# Vertical Layout"
   ]
  },
  {
   "cell_type": "code",
   "execution_count": 5,
   "metadata": {
    "slideshow": {
     "slide_type": "slide"
    }
   },
   "outputs": [],
   "source": [
    "import PySimpleGUI as sg\n",
    "\n",
    "layout = [[sg.Button(\"OK\")],\n",
    "          [sg.Button(\"OK 2\")],\n",
    "          [sg.Button(\"OK 3\")],\n",
    "          [sg.Button(\"OK 4\")],\n",
    "          [sg.Button(\"OK 5\")]]\n",
    "\n",
    "# Create the window\n",
    "window = sg.Window(\"Demo\", layout)\n",
    "\n",
    "# Create an event loop\n",
    "while True:\n",
    "    event, values = window.read()\n",
    "    # End program if user closes window or\n",
    "    # presses the OK button\n",
    "    if event == \"OK\" or event == sg.WIN_CLOSED:\n",
    "        break\n",
    "\n",
    "window.close()"
   ]
  },
  {
   "cell_type": "markdown",
   "metadata": {
    "slideshow": {
     "slide_type": "slide"
    }
   },
   "source": [
    "# Creating Columns"
   ]
  },
  {
   "cell_type": "code",
   "execution_count": 1,
   "metadata": {
    "slideshow": {
     "slide_type": "subslide"
    }
   },
   "outputs": [],
   "source": [
    "import PySimpleGUI as sg\n",
    "\n",
    "left_column = [\n",
    "    [sg.Text(\"Select Folder\"),\n",
    "     sg.Input(size=(25, 1), enable_events=True, key=\"-FNAME-\"),\n",
    "     sg.FolderBrowse()]]\n",
    "\n",
    "right_column = [\n",
    "    [sg.Button(\"Btn 1\"),\n",
    "     sg.Button(\"Btn 2\"),\n",
    "     sg.Button(\"Btn 3\")],\n",
    "    [sg.Button(\"Btn 4\"),\n",
    "     sg.Button(\"Btn 5\"),\n",
    "     sg.Button(\"Btn 6\")]\n",
    "]\n",
    "\n",
    "layout = [\n",
    "    [sg.Column(left_column),\n",
    "     sg.VSeperator(),\n",
    "     sg.Col(right_column)]\n",
    "]\n",
    "\n",
    "window = sg.Window(\"Column Demo\", layout)\n",
    "\n",
    "while True:\n",
    "    event, values = window.read()\n",
    "    if event == \"Exit\" or event == sg.WIN_CLOSED:\n",
    "        break"
   ]
  },
  {
   "cell_type": "markdown",
   "metadata": {
    "slideshow": {
     "slide_type": "slide"
    }
   },
   "source": [
    "# Compare PySimpleGUI and wxPython\n",
    "\n",
    "<a href=\"https://leanpub.com/pillow\"><img src=\"https://www.blog.pythonlibrary.org/wp-content/uploads/2021/01/pillow_cover_thumb.jpg\" alt=\"Pillow: Image Processing with Python\" align=\"center\"></a>"
   ]
  },
  {
   "cell_type": "markdown",
   "metadata": {
    "slideshow": {
     "slide_type": "slide"
    }
   },
   "source": [
    "# Using Matplotlib with PySimpleGUI"
   ]
  },
  {
   "cell_type": "markdown",
   "metadata": {
    "slideshow": {
     "slide_type": "slide"
    }
   },
   "source": [
    "# Other Examples\n",
    "\n",
    "* https://pysimplegui.readthedocs.io/en/latest/#the-beauty-of-simplicity\n",
    "* https://pysimplegui.readthedocs.io/en/latest/#some-examples\n"
   ]
  },
  {
   "cell_type": "markdown",
   "metadata": {
    "slideshow": {
     "slide_type": "slide"
    }
   },
   "source": [
    "# PySimpleGUI Demos\n",
    "\n",
    "* https://github.com/PySimpleGUI/PySimpleGUI/tree/master/DemoPrograms"
   ]
  },
  {
   "cell_type": "markdown",
   "metadata": {
    "slideshow": {
     "slide_type": "slide"
    }
   },
   "source": [
    "# Questions?"
   ]
  }
 ],
 "metadata": {
  "celltoolbar": "Slideshow",
  "kernelspec": {
   "display_name": "Python 3",
   "language": "python",
   "name": "python3"
  },
  "language_info": {
   "codemirror_mode": {
    "name": "ipython",
    "version": 3
   },
   "file_extension": ".py",
   "mimetype": "text/x-python",
   "name": "python",
   "nbconvert_exporter": "python",
   "pygments_lexer": "ipython3",
   "version": "3.8.1"
  }
 },
 "nbformat": 4,
 "nbformat_minor": 4
}
