{
 "cells": [
  {
   "cell_type": "markdown",
   "id": "nutritional-nation",
   "metadata": {
    "slideshow": {
     "slide_type": "slide"
    }
   },
   "source": [
    "\n",
    "\n",
    "<center><img src=\"pillow_cover.jpg\"/></center>\n",
    "\n",
    "Code - https://github.com/driscollis/image_processing_with_python"
   ]
  },
  {
   "cell_type": "markdown",
   "id": "convenient-fortune",
   "metadata": {
    "slideshow": {
     "slide_type": "slide"
    }
   },
   "source": [
    "# What You Will Learn\n",
    "\n",
    "- Opening Images\n",
    "- Extracting Image Information (EXIF)\n",
    "- Cropping\n",
    "- Rotating\n",
    "- Image Enhancement\n",
    "- Drawing\n",
    "- Adding a GUI"
   ]
  },
  {
   "cell_type": "markdown",
   "id": "cellular-filing",
   "metadata": {
    "slideshow": {
     "slide_type": "slide"
    }
   },
   "source": [
    "# Opening an Image"
   ]
  },
  {
   "cell_type": "code",
   "execution_count": null,
   "id": "governing-framework",
   "metadata": {
    "slideshow": {
     "slide_type": "subslide"
    }
   },
   "outputs": [],
   "source": [
    "# open_image.py\n",
    "\n",
    "from PIL import Image\n",
    "\n",
    "image = Image.open(\"flowers.jpg\")\n",
    "image.show()"
   ]
  },
  {
   "cell_type": "markdown",
   "id": "alpine-crisis",
   "metadata": {
    "slideshow": {
     "slide_type": "slide"
    }
   },
   "source": [
    "# Opening an Image Using `with`"
   ]
  },
  {
   "cell_type": "code",
   "execution_count": null,
   "id": "eleven-knock",
   "metadata": {
    "slideshow": {
     "slide_type": "slide"
    }
   },
   "outputs": [],
   "source": [
    "# open_image_context.py\n",
    "\n",
    "from PIL import Image\n",
    "\n",
    "with Image.open(\"flowers.jpg\") as image:\n",
    "    image.show(\"flowers\")\n"
   ]
  },
  {
   "cell_type": "markdown",
   "id": "defined-commons",
   "metadata": {
    "slideshow": {
     "slide_type": "slide"
    }
   },
   "source": [
    "# Converting an Image"
   ]
  },
  {
   "cell_type": "code",
   "execution_count": null,
   "id": "subsequent-sweden",
   "metadata": {
    "slideshow": {
     "slide_type": "subslide"
    }
   },
   "outputs": [],
   "source": [
    "# save_image.py\n",
    "\n",
    "import pathlib\n",
    "\n",
    "from PIL import Image\n",
    "\n",
    "\n",
    "def image_converter(input_file_path, output_file_path):\n",
    "    original_suffix = pathlib.Path(input_file_path).suffix\n",
    "    new_suffix = pathlib.Path(output_file_path).suffix\n",
    "    print(f\"Converting {input_file_path} from {original_suffix} \" f\"to {new_suffix}\")\n",
    "    \n",
    "    image = Image.open(input_file_path)\n",
    "    image.save(output_file_path)\n",
    "    \n",
    "\n",
    "image_converter(\"flowers.jpg\", \"flowers.png\")"
   ]
  },
  {
   "cell_type": "markdown",
   "id": "olive-accounting",
   "metadata": {
    "slideshow": {
     "slide_type": "slide"
    }
   },
   "source": [
    "# Saving with Compression"
   ]
  },
  {
   "cell_type": "code",
   "execution_count": null,
   "id": "signed-spirituality",
   "metadata": {
    "slideshow": {
     "slide_type": "subslide"
    }
   },
   "outputs": [],
   "source": [
    "# save_image_with_compression.py\n",
    "\n",
    "import pathlib\n",
    "\n",
    "from PIL import Image\n",
    "\n",
    "\n",
    "def image_quality(input_file_path, output_file_path, quality):\n",
    "    image = Image.open(input_file_path)\n",
    "    image.save(output_file_path, quality=quality, optimize=True)\n",
    "\n",
    "\n",
    "image_quality(\"blue_flowers.jpg\",\n",
    "              \"blue_flowers_compressed.jpg\",\n",
    "              quality=85)"
   ]
  },
  {
   "cell_type": "markdown",
   "id": "incoming-semester",
   "metadata": {
    "slideshow": {
     "slide_type": "slide"
    }
   },
   "source": [
    "# Getting EXIF Data"
   ]
  },
  {
   "cell_type": "markdown",
   "id": "close-browse",
   "metadata": {
    "slideshow": {
     "slide_type": "slide"
    }
   },
   "source": [
    "# Exchangeable Image File Format\n",
    "\n",
    "The Exchangeable Image File Format (EXIF) is a standard for storing information about a photo or video. It includes image resolution, the camera used, color type, compression and much more!"
   ]
  },
  {
   "cell_type": "code",
   "execution_count": null,
   "id": "australian-virus",
   "metadata": {
    "slideshow": {
     "slide_type": "slide"
    }
   },
   "outputs": [],
   "source": [
    "# exif_getter.py\n",
    "\n",
    "from PIL import Image\n",
    "from PIL.ExifTags import TAGS\n",
    "\n",
    "\n",
    "def get_exif(image_file_path):\n",
    "    exif_table = {}\n",
    "    image = Image.open(image_file_path)\n",
    "    info = image.getexif()\n",
    "    for tag, value in info.items():\n",
    "        decoded = TAGS.get(tag, tag)\n",
    "        exif_table[decoded] = value\n",
    "    return exif_table\n",
    "\n",
    "\n",
    "exif = get_exif(\"bridge.JPG\")\n",
    "print(exif)\n"
   ]
  },
  {
   "cell_type": "markdown",
   "id": "accepting-grass",
   "metadata": {
    "slideshow": {
     "slide_type": "subslide"
    }
   },
   "source": [
    "# Example output\n",
    "\n",
    "```\n",
    "{'ExifVersion': b'0230', \n",
    "'ComponentsConfiguration': b'\\x01\\x02\\x03\\x00', \n",
    "'CompressedBitsPerPixel': 3.0, \n",
    "'DateTimeOriginal': '2020:06:12 10:01:59', \n",
    "'DateTimeDigitized': '2020:06:12 10:01:59', \n",
    "'BrightnessValue': 10.56015625, \n",
    "'ExposureBiasValue': 0.3, \n",
    "'MaxApertureValue': 4.3359375, \n",
    "'MeteringMode': 5, \n",
    "'LightSource': 0, \n",
    "'Flash': 16, \n",
    "'FocalLength': 38.0,\n",
    "'SceneCaptureType': 0,\n",
    "'ExifImageHeight': 1080, \n",
    "'Make': 'SONY',\n",
    "'Model': 'ILCE-6300', \n",
    "'Orientation': 1}\n",
    "```"
   ]
  },
  {
   "cell_type": "markdown",
   "id": "earned-coach",
   "metadata": {
    "slideshow": {
     "slide_type": "slide"
    }
   },
   "source": [
    "# Cropping Photos"
   ]
  },
  {
   "cell_type": "code",
   "execution_count": null,
   "id": "independent-springfield",
   "metadata": {
    "slideshow": {
     "slide_type": "subslide"
    }
   },
   "outputs": [],
   "source": [
    "# crop_image.py\n",
    "\n",
    "from PIL import Image\n",
    "\n",
    "\n",
    "def crop_image(image_path, coords, output_image_path):\n",
    "    image = Image.open(image_path)\n",
    "    cropped_image = image.crop(coords)\n",
    "    cropped_image.save(output_image_path)\n",
    "    cropped_image.show()\n",
    "\n",
    "\n",
    "crop_image(\"green_mantis.jpeg\",\n",
    "           (302, 101, 910, 574),\n",
    "           \"cropped_mantis.jpg\")\n"
   ]
  },
  {
   "cell_type": "markdown",
   "id": "first-buffer",
   "metadata": {
    "slideshow": {
     "slide_type": "subslide"
    }
   },
   "source": [
    "# Rotating Photos"
   ]
  },
  {
   "cell_type": "code",
   "execution_count": null,
   "id": "approved-directory",
   "metadata": {
    "slideshow": {
     "slide_type": "subslide"
    }
   },
   "outputs": [],
   "source": [
    "# rotate_image.py\n",
    "\n",
    "from PIL import Image\n",
    "\n",
    "\n",
    "def rotate(image_path, degrees_to_rotate, output_image_path):\n",
    "    image_obj = Image.open(image_path)\n",
    "    rotated_image = image_obj.rotate(degrees_to_rotate)\n",
    "    rotated_image.save(output_image_path)\n",
    "    rotated_image.show()\n",
    "\n",
    "\n",
    "image = \"dragonfly.jpg\"\n",
    "rotate(image, 90, \"dragonfly_rotated.jpg\")\n"
   ]
  },
  {
   "cell_type": "markdown",
   "id": "great-sheffield",
   "metadata": {
    "slideshow": {
     "slide_type": "subslide"
    }
   },
   "source": [
    "# Resizing Photos"
   ]
  },
  {
   "cell_type": "code",
   "execution_count": null,
   "id": "ignored-phrase",
   "metadata": {
    "slideshow": {
     "slide_type": "subslide"
    }
   },
   "outputs": [],
   "source": [
    "# resize_image.py\n",
    "\n",
    "from PIL import Image\n",
    "\n",
    "\n",
    "def resize(input_image_path, output_image_path, size):\n",
    "    image = Image.open(input_image_path)\n",
    "    width, height = image.size\n",
    "    print(f\"The original image size is {width} wide x {height} high\")\n",
    "\n",
    "    resized_image = image.resize(size)\n",
    "    width, height = resized_image.size\n",
    "    print(f\"The resized image size is {width} wide x {height} high\")\n",
    "    resized_image.save(output_image_path)\n",
    "    resized_image.show()\n",
    "\n",
    "\n",
    "resize(\n",
    "    input_image_path=\"pilot_knob.jpg\",\n",
    "    output_image_path=\"pilot_knob_small.jpg\",\n",
    "    size=(800, 400),\n",
    ")"
   ]
  },
  {
   "cell_type": "markdown",
   "id": "eight-expansion",
   "metadata": {
    "slideshow": {
     "slide_type": "slide"
    }
   },
   "source": [
    "# Scaling Photos"
   ]
  },
  {
   "cell_type": "code",
   "execution_count": null,
   "id": "junior-moore",
   "metadata": {
    "slideshow": {
     "slide_type": "subslide"
    }
   },
   "outputs": [],
   "source": [
    "# scale_image.py\n",
    "\n",
    "import sys\n",
    "from PIL import Image\n",
    "\n",
    "\n",
    "def scale(input_image_path,\n",
    "          output_image_path,\n",
    "          width=None,\n",
    "          height=None):\n",
    "    image = Image.open(input_image_path)\n",
    "    w, h = image.size\n",
    "    print(f\"The image size is {w} wide x {h} high\")\n",
    "\n",
    "    if width and height:\n",
    "        max_size = (width, height)\n",
    "    elif width:\n",
    "        max_size = (width, h)\n",
    "    elif height:\n",
    "        max_size = (w, height)\n",
    "    else:\n",
    "        # No width or height specified\n",
    "        sys.exit(\"Width or height required!\")\n",
    "\n",
    "    image.thumbnail(max_size, Image.ANTIALIAS)\n",
    "    image.save(output_image_path)\n",
    "    image.show()\n",
    "\n",
    "    scaled_image = Image.open(output_image_path)\n",
    "    width, height = scaled_image.size\n",
    "    print(f\"The scaled image size is {width} wide x {height} high\")\n",
    "\n",
    "\n",
    "scale(\n",
    "    input_image_path=\"pilot_knob.jpg\",\n",
    "    output_image_path=\"pilot_knob_scaled.jpg\",\n",
    "    width=800\n",
    ")\n"
   ]
  },
  {
   "cell_type": "markdown",
   "id": "different-causing",
   "metadata": {
    "slideshow": {
     "slide_type": "slide"
    }
   },
   "source": [
    "# Enhancing Photos with `ImageEnhance`\n",
    "\n",
    "Supports contrast, color, sharpness and brightness"
   ]
  },
  {
   "cell_type": "markdown",
   "id": "monthly-prior",
   "metadata": {
    "slideshow": {
     "slide_type": "subslide"
    }
   },
   "source": [
    "# Enhancing Contrast"
   ]
  },
  {
   "cell_type": "code",
   "execution_count": null,
   "id": "concrete-scenario",
   "metadata": {
    "slideshow": {
     "slide_type": "subslide"
    }
   },
   "outputs": [],
   "source": [
    "# enhance_contrast.py\n",
    "\n",
    "from PIL import Image\n",
    "from PIL import ImageEnhance\n",
    "\n",
    "\n",
    "def enhance_contrast(image_path, enhance_factor, output_path):\n",
    "    image = Image.open(image_path)\n",
    "    enhancer = ImageEnhance.Contrast(image)\n",
    "    new_image = enhancer.enhance(enhance_factor)\n",
    "    new_image.save(output_path)\n",
    "    new_image.show()\n",
    "\n",
    "enhance_contrast(\"madison_county_bridge.jpg\", 2.5,\n",
    "                 \"madison_county_bridge_enhanced.jpg\")\n"
   ]
  },
  {
   "cell_type": "markdown",
   "id": "detected-vietnamese",
   "metadata": {
    "slideshow": {
     "slide_type": "subslide"
    }
   },
   "source": [
    "# Enhancing Color"
   ]
  },
  {
   "cell_type": "code",
   "execution_count": null,
   "id": "veterinary-leone",
   "metadata": {
    "slideshow": {
     "slide_type": "subslide"
    }
   },
   "outputs": [],
   "source": [
    "# enhance_color.py\n",
    "\n",
    "from PIL import Image\n",
    "from PIL import ImageEnhance\n",
    "\n",
    "\n",
    "def enhance_color(image_path, enhance_factor, output_path):\n",
    "    image = Image.open(image_path)\n",
    "    enhancer = ImageEnhance.Color(image)\n",
    "    new_image = enhancer.enhance(enhance_factor)\n",
    "    new_image.save(output_path)\n",
    "    new_image.show()\n",
    "\n",
    "\n",
    "enhance_color(\"goldenrod_soldier_beetle.jpg\", 0.0,\n",
    "              \"beetle_color_enhanced.jpg\")\n"
   ]
  },
  {
   "cell_type": "markdown",
   "id": "incoming-clone",
   "metadata": {
    "slideshow": {
     "slide_type": "slide"
    }
   },
   "source": [
    "# Drawing\n",
    "\n",
    "- Drawing shapes\n",
    "- Drawing text"
   ]
  },
  {
   "cell_type": "code",
   "execution_count": null,
   "id": "revolutionary-sensitivity",
   "metadata": {
    "slideshow": {
     "slide_type": "subslide"
    }
   },
   "outputs": [],
   "source": [
    "# draw_line.py\n",
    "\n",
    "import random\n",
    "from PIL import Image, ImageDraw\n",
    "\n",
    "\n",
    "def line(image_path, output_path):\n",
    "    image = Image.open(image_path)\n",
    "    draw = ImageDraw.Draw(image)\n",
    "    colors = [\"red\", \"green\", \"blue\", \"yellow\",\n",
    "              \"purple\", \"orange\"]\n",
    "\n",
    "    for i in range(0, 100, 20):\n",
    "        draw.line((i, 0) + image.size, width=5, fill=random.choice(colors))\n",
    "\n",
    "    image.save(output_path)\n",
    "    image.show()\n",
    "\n",
    "line(\"madison_county_bridge_2.jpg\", \"lines.jpg\")"
   ]
  },
  {
   "cell_type": "code",
   "execution_count": null,
   "id": "turned-pendant",
   "metadata": {
    "slideshow": {
     "slide_type": "subslide"
    }
   },
   "outputs": [],
   "source": [
    "# draw_rectangle.py\n",
    "\n",
    "from PIL import Image, ImageDraw\n",
    "\n",
    "\n",
    "def rectangle(output_path):\n",
    "    image = Image.new(\"RGB\", (400, 400), \"blue\")\n",
    "    draw = ImageDraw.Draw(image)\n",
    "    draw.rectangle((200, 100, 300, 200), fill=\"red\")\n",
    "    draw.rectangle((50, 50, 150, 150), fill=\"green\", outline=\"yellow\",\n",
    "                   width=3)\n",
    "    image.save(output_path)\n",
    "    image.show()\n",
    "\n",
    "rectangle(\"rectangle.jpg\")"
   ]
  },
  {
   "cell_type": "markdown",
   "id": "speaking-nicaragua",
   "metadata": {
    "slideshow": {
     "slide_type": "slide"
    }
   },
   "source": [
    "# Image Operations (`ImageOps`)\n",
    "\n",
    "The `ImageOps` module contains a number of ‘ready-made’ image processing operations. This module is somewhat experimental, and most operators only work on L and RGB images.\n",
    "\n",
    "https://pillow.readthedocs.io/en/3.0.x/reference/ImageOps.html"
   ]
  },
  {
   "cell_type": "markdown",
   "id": "killing-narrow",
   "metadata": {
    "slideshow": {
     "slide_type": "subslide"
    }
   },
   "source": [
    "# Demos from Book"
   ]
  },
  {
   "cell_type": "markdown",
   "id": "controlling-qualification",
   "metadata": {
    "slideshow": {
     "slide_type": "slide"
    }
   },
   "source": [
    "# Adding a GUI\n"
   ]
  },
  {
   "cell_type": "markdown",
   "id": "skilled-parking",
   "metadata": {
    "slideshow": {
     "slide_type": "slide"
    }
   },
   "source": [
    "# Questions\n"
   ]
  }
 ],
 "metadata": {
  "celltoolbar": "Slideshow",
  "kernelspec": {
   "display_name": "Python 3",
   "language": "python",
   "name": "python3"
  },
  "language_info": {
   "codemirror_mode": {
    "name": "ipython",
    "version": 3
   },
   "file_extension": ".py",
   "mimetype": "text/x-python",
   "name": "python",
   "nbconvert_exporter": "python",
   "pygments_lexer": "ipython3",
   "version": "3.9.0"
  }
 },
 "nbformat": 4,
 "nbformat_minor": 5
}
