{
 "cells": [
  {
   "cell_type": "markdown",
   "metadata": {
    "slideshow": {
     "slide_type": "slide"
    }
   },
   "source": [
    "# The `functools` Module\n",
    "\n",
    "Mike Driscoll ([@driscollis](https://twitter.com/driscollis))"
   ]
  },
  {
   "cell_type": "markdown",
   "metadata": {
    "slideshow": {
     "slide_type": "slide"
    }
   },
   "source": [
    "# About Me\n",
    "\n",
    "- Writes about Python at [Mouse Vs Python](https://www.blog.pythonlibrary.org/)\n",
    "- Contributor at [Real Python](https://realpython.com/)\n",
    "- Python book writer\n",
    "- Automated Testing"
   ]
  },
  {
   "cell_type": "markdown",
   "metadata": {
    "slideshow": {
     "slide_type": "slide"
    }
   },
   "source": [
    "# What is `functools`?"
   ]
  },
  {
   "cell_type": "markdown",
   "metadata": {
    "slideshow": {
     "slide_type": "slide"
    }
   },
   "source": [
    "The functools module is for higher-order functions: functions that act on or return other functions. In general, any callable object can be treated as a function for the purposes of this module."
   ]
  },
  {
   "cell_type": "markdown",
   "metadata": {
    "slideshow": {
     "slide_type": "slide"
    }
   },
   "source": [
    "# The functools module\n",
    "\n",
    "- Caching\n",
    " - `cache`\n",
    " - `cached_property`\n",
    " - `lru_cache`\n",
    "- `total_ordering`\n",
    "- `partial`\n",
    "- `reduce`\n",
    "- `singledispatch`\n",
    "- `wraps`"
   ]
  },
  {
   "cell_type": "markdown",
   "metadata": {
    "slideshow": {
     "slide_type": "slide"
    }
   },
   "source": [
    "# Caching\n",
    "\n",
    "- `cache` - New in 3.9\n",
    "- `cached_property` - New in 3.8\n",
    "- `lru_cache`"
   ]
  },
  {
   "cell_type": "markdown",
   "metadata": {
    "slideshow": {
     "slide_type": "slide"
    }
   },
   "source": [
    "# `functools.cache`\n",
    "\n",
    "Simple lightweight unbounded function cache. Sometimes called “memoize”.\n",
    "\n",
    "Returns the same as `lru_cache(maxsize=None)`, creating a thin wrapper around a dictionary lookup for the function arguments. Because it never needs to evict old values, this is smaller and faster than `lru_cache()` with a size limit."
   ]
  },
  {
   "cell_type": "markdown",
   "metadata": {
    "slideshow": {
     "slide_type": "slide"
    }
   },
   "source": [
    "# Python Docs example of `cache`\n",
    "\n",
    "https://docs.python.org/3/library/functools.html#functools.cache"
   ]
  },
  {
   "cell_type": "code",
   "execution_count": null,
   "metadata": {
    "slideshow": {
     "slide_type": "slide"
    }
   },
   "outputs": [],
   "source": [
    "from functools import cache\n",
    "\n",
    "@cache\n",
    "def factorial(n):\n",
    "    return n * factorial(n-1) if n else 1\n",
    "\n",
    "factorial(10) # no previously cached result, makes 11 recursive calls\n",
    "factorial(5) # just looks up cached value result\n",
    "factorial(15) # makes five new recursive calls, the other 10 are cached"
   ]
  },
  {
   "cell_type": "markdown",
   "metadata": {
    "slideshow": {
     "slide_type": "slide"
    }
   },
   "source": [
    "# `functools.lru_cache`"
   ]
  },
  {
   "cell_type": "code",
   "execution_count": 19,
   "metadata": {
    "slideshow": {
     "slide_type": "slide"
    }
   },
   "outputs": [],
   "source": [
    "import time\n",
    "import urllib.error\n",
    "import urllib.request\n",
    "\n",
    "from functools import lru_cache\n",
    "\n",
    "@lru_cache(maxsize=24)\n",
    "def get_webpage(module):\n",
    "    \"\"\"\n",
    "    Gets the specified Python module web page\n",
    "    \"\"\"    \n",
    "    webpage = f\"https://docs.python.org/3/library/{module}.html\"\n",
    "    try:\n",
    "        with urllib.request.urlopen(webpage) as request:\n",
    "            return request.read()\n",
    "    except urllib.error.HTTPError:\n",
    "        return None"
   ]
  },
  {
   "cell_type": "code",
   "execution_count": 20,
   "metadata": {
    "slideshow": {
     "slide_type": "slide"
    }
   },
   "outputs": [
    {
     "name": "stdout",
     "output_type": "stream",
     "text": [
      "functools module downloaded in 0.13077878952026367188 seconds\n",
      "os module downloaded in 0.20141792297363281250 seconds\n",
      "sys module downloaded in 0.17660903930664062500 seconds\n",
      "os module downloaded in 0.00000190734863281250 seconds\n"
     ]
    }
   ],
   "source": [
    "modules = ['functools', 'os', 'sys', 'os']\n",
    "for module in modules:\n",
    "    start = time.time()\n",
    "    page = get_webpage(module)\n",
    "    end = time.time()\n",
    "    if page:\n",
    "        print(f\"{module} module downloaded in {end-start:.20f} seconds\")"
   ]
  },
  {
   "cell_type": "markdown",
   "metadata": {
    "slideshow": {
     "slide_type": "slide"
    }
   },
   "source": [
    "# `functools.total_ordering`\n",
    "\n",
    "Given a class defining one or more rich comparison ordering methods, this class decorator supplies the rest. This simplifies the effort involved in specifying all of the possible rich comparison operations:\n",
    "\n",
    "The class must define one of `__lt__()`, `__le__()`, `__gt__()`, or `__ge__()`. In addition, the class should supply an `__eq__()` method."
   ]
  },
  {
   "cell_type": "code",
   "execution_count": 21,
   "metadata": {
    "slideshow": {
     "slide_type": "subslide"
    }
   },
   "outputs": [
    {
     "name": "stdout",
     "output_type": "stream",
     "text": [
      "True\n",
      "NotImplemented\n",
      "NotImplemented\n",
      "NotImplemented\n",
      "True\n",
      "False\n"
     ]
    }
   ],
   "source": [
    "# Create a class for comparing numbers\n",
    "\n",
    "class Number: \n",
    "      \n",
    "    def __init__(self, value): \n",
    "        self.value = value \n",
    "          \n",
    "    def __lt__(self, other): \n",
    "        return self.value < other.value \n",
    "        \n",
    "    def __eq__(self, other): \n",
    "        # Changing the functionality \n",
    "        # of equality operator \n",
    "        return self.value != other.value \n",
    "\n",
    "x = Number(5)\n",
    "y = Number(10)\n",
    "print(x.__lt__(y))\n",
    "print(x.__le__(y))\n",
    "print(x.__gt__(y))\n",
    "print(x.__ge__(y)) \n",
    "print(x.__eq__(y))\n",
    "print(x.__ne__(y))"
   ]
  },
  {
   "cell_type": "markdown",
   "metadata": {
    "slideshow": {
     "slide_type": "subslide"
    }
   },
   "source": [
    "# Now add `total_ordering`"
   ]
  },
  {
   "cell_type": "code",
   "execution_count": 22,
   "metadata": {
    "slideshow": {
     "slide_type": "subslide"
    }
   },
   "outputs": [
    {
     "name": "stdout",
     "output_type": "stream",
     "text": [
      "True\n",
      "True\n",
      "False\n",
      "False\n",
      "True\n",
      "False\n"
     ]
    }
   ],
   "source": [
    "from functools import total_ordering\n",
    "\n",
    "@total_ordering\n",
    "class Number: \n",
    "      \n",
    "    def __init__(self, value): \n",
    "        self.value = value \n",
    "          \n",
    "    def __lt__(self, other): \n",
    "        return self.value < other.value \n",
    "        \n",
    "    def __eq__(self, other):          \n",
    "        # Changing the functionality \n",
    "        # of equality operator \n",
    "        return self.value != other.value \n",
    "\n",
    "x = Number(5)\n",
    "y = Number(10)\n",
    "print(x.__lt__(y))\n",
    "print(x.__le__(y))\n",
    "print(x.__gt__(y))\n",
    "print(x.__ge__(y))\n",
    "print(x.__eq__(y))\n",
    "print(x.__ne__(y))"
   ]
  },
  {
   "cell_type": "markdown",
   "metadata": {
    "slideshow": {
     "slide_type": "slide"
    }
   },
   "source": [
    "# Partial functions\n",
    "\n",
    "Used for creating new functions with defaults applied\n",
    "\n",
    "- Mouse Vs Python - [Partial Functions](https://www.blog.pythonlibrary.org/2016/02/11/python-partials/)\n"
   ]
  },
  {
   "cell_type": "code",
   "execution_count": 35,
   "metadata": {
    "slideshow": {
     "slide_type": "slide"
    }
   },
   "outputs": [
    {
     "name": "stdout",
     "output_type": "stream",
     "text": [
      "a=2, b=4\n"
     ]
    },
    {
     "data": {
      "text/plain": [
       "6"
      ]
     },
     "execution_count": 35,
     "metadata": {},
     "output_type": "execute_result"
    }
   ],
   "source": [
    "from functools import partial\n",
    "\n",
    "def add(a, b):\n",
    "    print(f\"a={a}, b={b}\")\n",
    "    return a + b\n",
    "\n",
    "p_add = partial(add, b=4)\n",
    "p_add(2)"
   ]
  },
  {
   "cell_type": "markdown",
   "metadata": {
    "slideshow": {
     "slide_type": "slide"
    }
   },
   "source": [
    "# Partial can be used in callbacks"
   ]
  },
  {
   "cell_type": "code",
   "execution_count": null,
   "metadata": {
    "slideshow": {
     "slide_type": "subslide"
    }
   },
   "outputs": [],
   "source": [
    "import tkinter\n",
    "\n",
    "\n",
    "def btn_event(label):\n",
    "    print(f\"You pressed the {label} button\")\n",
    "\n",
    "\n",
    "def main():\n",
    "    root = tkinter.Tk()\n",
    "    root.title(\"Partial Callbacks\")\n",
    "    root.geometry(\"200x200\")\n",
    "    evt_handler = lambda: btn_event(\"Press me\")\n",
    "    btn = tkinter.Button(root, text=\"Press me\", command=evt_handler)\n",
    "    btn.pack()\n",
    "    root.mainloop()\n",
    "    \n",
    "main()\n",
    "    "
   ]
  },
  {
   "cell_type": "code",
   "execution_count": null,
   "metadata": {
    "slideshow": {
     "slide_type": "subslide"
    }
   },
   "outputs": [],
   "source": [
    "import tkinter\n",
    "\n",
    "from functools import partial\n",
    "\n",
    "def btn_event(label):\n",
    "    print(f\"You pressed the {label} button\")\n",
    "\n",
    "\n",
    "def main():\n",
    "    root = tkinter.Tk()\n",
    "    root.title(\"Partial Callbacks\")\n",
    "    root.geometry(\"200x200\")\n",
    "    evt_handler = partial(btn_event, \"Press me\")\n",
    "    btn = tkinter.Button(root, text=\"Press me\", command=evt_handler)\n",
    "    btn.pack()\n",
    "    root.mainloop()\n",
    "    \n",
    "main()\n",
    "    "
   ]
  },
  {
   "cell_type": "markdown",
   "metadata": {
    "slideshow": {
     "slide_type": "slide"
    }
   },
   "source": [
    "# Using `functools.partial` with wxPython"
   ]
  },
  {
   "cell_type": "code",
   "execution_count": null,
   "metadata": {
    "slideshow": {
     "slide_type": "slide"
    }
   },
   "outputs": [],
   "source": [
    "import wx\n",
    "\n",
    "from functools import partial \n",
    "\n",
    "\n",
    "class MainFrame(wx.Frame):\n",
    "    \"\"\"\n",
    "    This app shows a group of buttons\n",
    "    \"\"\"\n",
    "    def __init__(self, *args, **kwargs):\n",
    "        \"\"\"Constructor\"\"\"\n",
    "        super(MainFrame, self).__init__(parent=None, title='Partial')\n",
    "        panel = wx.Panel(self)\n",
    "\n",
    "        sizer = wx.BoxSizer(wx.VERTICAL)\n",
    "        btn_labels = ['one', 'two', 'three']\n",
    "        for label in btn_labels:\n",
    "            btn = wx.Button(panel, label=label)\n",
    "            btn.Bind(wx.EVT_BUTTON, partial(self.onButton, label=label))\n",
    "            sizer.Add(btn, 0, wx.ALL, 5)\n",
    "\n",
    "        panel.SetSizer(sizer)\n",
    "        self.Show()\n",
    "\n",
    "    def onButton(self, event, label):\n",
    "        \"\"\"\n",
    "        Event handler called when a button is pressed\n",
    "        \"\"\"\n",
    "        print 'You pressed: ', label\n",
    "\n",
    "\n",
    "if __name__ == '__main__':\n",
    "    app = wx.App(False)\n",
    "    frame = MainFrame()\n",
    "    app.MainLoop()"
   ]
  },
  {
   "cell_type": "markdown",
   "metadata": {
    "slideshow": {
     "slide_type": "slide"
    }
   },
   "source": [
    "# `functools.reduce`\n",
    "\n",
    "- Python [documentation](https://docs.python.org/3/library/functools.html#functools.reduce)\n",
    "- Real Python [article on reduce()](https://realpython.com/python-reduce-function/)\n",
    "\n",
    "Apply function of two arguments cumulatively to the items of iterable, from left to right, so as to reduce the iterable to a single value. For example, `reduce(lambda x, y: x+y, [1, 2, 3, 4, 5])` calculates `((((1+2)+3)+4)+5)`. "
   ]
  },
  {
   "cell_type": "code",
   "execution_count": 37,
   "metadata": {
    "slideshow": {
     "slide_type": "slide"
    }
   },
   "outputs": [
    {
     "name": "stdout",
     "output_type": "stream",
     "text": [
      "a=1 b=2\n",
      "a=3 b=3\n",
      "a=6 b=4\n",
      "a=10 b=5\n"
     ]
    },
    {
     "data": {
      "text/plain": [
       "15"
      ]
     },
     "execution_count": 37,
     "metadata": {},
     "output_type": "execute_result"
    }
   ],
   "source": [
    "from functools import reduce\n",
    "\n",
    "def add(a, b):\n",
    "    print(f\"{a=} {b=}\")\n",
    "    return a + b\n",
    "\n",
    "# Equivalent to 1+2+3+4+5\n",
    "reduce(add, [1, 2, 3, 4, 5])"
   ]
  },
  {
   "cell_type": "markdown",
   "metadata": {
    "slideshow": {
     "slide_type": "slide"
    }
   },
   "source": [
    "# Function Overloading\n",
    "\n",
    "- Mouse Vs Python - [Function Overloading with singledispatch](https://www.blog.pythonlibrary.org/2016/02/23/python-3-function-overloading-with-singledispatch/)"
   ]
  },
  {
   "cell_type": "markdown",
   "metadata": {
    "slideshow": {
     "slide_type": "slide"
    }
   },
   "source": [
    "# What is Function Overloading?\n",
    "\n",
    "A generic function is a function composed of multiple functions implementing the same operation for different types. Which implementation should be used during a call is determined by the dispatch algorithm.\n",
    "\n",
    "Python only supports dispatching based on the type of the first argument of a function."
   ]
  },
  {
   "cell_type": "markdown",
   "metadata": {
    "slideshow": {
     "slide_type": "slide"
    }
   },
   "source": [
    "# Using `functools.singledispatch`"
   ]
  },
  {
   "cell_type": "code",
   "execution_count": 46,
   "metadata": {
    "slideshow": {
     "slide_type": "slide"
    }
   },
   "outputs": [
    {
     "name": "stdout",
     "output_type": "stream",
     "text": [
      "First argument is of type  <class 'tuple'>\n",
      "[1, 2]\n"
     ]
    }
   ],
   "source": [
    "from functools import singledispatch\n",
    "\n",
    "@singledispatch\n",
    "def add(a, b):\n",
    "    raise NotImplementedError('Unsupported type')\n",
    "    \n",
    "@add.register(int)\n",
    "def _(a, b):\n",
    "    print(\"First argument is of type \", type(a))\n",
    "    print(a + b)\n",
    "    \n",
    "@add.register(str)\n",
    "def _(a, b):\n",
    "    print(\"First argument is of type \", type(a))\n",
    "    print(a + b)\n",
    "    \n",
    "@add.register(tuple)\n",
    "def _(a, b):\n",
    "    print(\"First argument is of type \", type(a))\n",
    "    t = [i for i in a] + [j for j in b]\n",
    "    print(t)\n",
    "    \n",
    "if __name__ == '__main__':\n",
    "    #add(1, 2)\n",
    "    add((1,), (2,))\n",
    "    #add([1, 2, 3], [5, 6, 7])"
   ]
  },
  {
   "cell_type": "markdown",
   "metadata": {
    "slideshow": {
     "slide_type": "slide"
    }
   },
   "source": [
    "# functools.wraps()\n",
    "\n",
    "* Mouse Vs Python - [Python – How to use functools.wraps](https://www.blog.pythonlibrary.org/2016/02/17/python-functools-wraps/)"
   ]
  },
  {
   "cell_type": "code",
   "execution_count": 47,
   "metadata": {
    "slideshow": {
     "slide_type": "slide"
    }
   },
   "outputs": [],
   "source": [
    "def logging_decorator(func):\n",
    "    \n",
    "    def wrapper(*args, **kwargs):\n",
    "        \"\"\"\n",
    "        A decorator\n",
    "        \"\"\"\n",
    "        print(f\"Logging: {args=}\")\n",
    "        print(f\"Logging: {kwargs=}\")\n",
    "        val = func(*args, **kwargs)\n",
    "        print(f\"Logging result of function: {val=}\")\n",
    "        return val\n",
    "    return wrapper\n",
    "    "
   ]
  },
  {
   "cell_type": "code",
   "execution_count": 48,
   "metadata": {
    "slideshow": {
     "slide_type": "slide"
    }
   },
   "outputs": [
    {
     "name": "stdout",
     "output_type": "stream",
     "text": [
      "Logging: args=(4, 5)\n",
      "Logging: kwargs={}\n",
      "Logging result of function: val=9\n",
      "Name of function: wrapper\n",
      "Docstring: \n",
      "        A decorator\n",
      "        \n"
     ]
    }
   ],
   "source": [
    "@logging_decorator\n",
    "def add(a, b):\n",
    "    \"\"\"A function that adds two values\"\"\"\n",
    "    return a + b\n",
    "\n",
    "add(4, 5)\n",
    "print(f\"Name of function: {add.__name__}\")\n",
    "print(f\"Docstring: {add.__doc__}\")"
   ]
  },
  {
   "cell_type": "markdown",
   "metadata": {
    "slideshow": {
     "slide_type": "slide"
    }
   },
   "source": [
    "# Let's Fix This with `functools.wraps()`"
   ]
  },
  {
   "cell_type": "code",
   "execution_count": null,
   "metadata": {
    "slideshow": {
     "slide_type": "slide"
    }
   },
   "outputs": [],
   "source": [
    "from functools import wraps\n",
    "\n",
    "def my_decorator(func):\n",
    "    \n",
    "    @wraps(func)\n",
    "    def wrapper(*args, **kwargs):\n",
    "        \"\"\"\n",
    "        A decorator\n",
    "        \"\"\"\n",
    "        print(f\"Logging: {args=}\")\n",
    "        print(f\"Logging: {kwargs=}\")\n",
    "        val = func(*args, **kwargs)\n",
    "        print(f\"Logging result of function: {val=}\")\n",
    "        return val\n",
    "    return wrapper"
   ]
  },
  {
   "cell_type": "code",
   "execution_count": 49,
   "metadata": {
    "slideshow": {
     "slide_type": "slide"
    }
   },
   "outputs": [
    {
     "name": "stdout",
     "output_type": "stream",
     "text": [
      "Logging: args=(4, 5)\n",
      "Logging: kwargs={}\n",
      "Logging result of function: val=9\n",
      "Name of function: add\n",
      "Docstring: A function that adds two values\n"
     ]
    }
   ],
   "source": [
    "@my_decorator\n",
    "def add(a, b):\n",
    "    \"\"\"A function that adds two values\"\"\"\n",
    "    return a + b\n",
    "\n",
    "add(4, 5)\n",
    "print(f\"Name of function: {add.__name__}\")\n",
    "print(f\"Docstring: {add.__doc__}\")"
   ]
  },
  {
   "cell_type": "markdown",
   "metadata": {
    "slideshow": {
     "slide_type": "slide"
    }
   },
   "source": [
    "# Questions?"
   ]
  }
 ],
 "metadata": {
  "celltoolbar": "Slideshow",
  "kernelspec": {
   "display_name": "Python 3",
   "language": "python",
   "name": "python3"
  },
  "language_info": {
   "codemirror_mode": {
    "name": "ipython",
    "version": 3
   },
   "file_extension": ".py",
   "mimetype": "text/x-python",
   "name": "python",
   "nbconvert_exporter": "python",
   "pygments_lexer": "ipython3",
   "version": "3.8.1"
  }
 },
 "nbformat": 4,
 "nbformat_minor": 4
}
