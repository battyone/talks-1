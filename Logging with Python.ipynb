{
 "cells": [
  {
   "cell_type": "markdown",
   "metadata": {
    "slideshow": {
     "slide_type": "slide"
    }
   },
   "source": [
    "# Intro to Logging with Python"
   ]
  },
  {
   "cell_type": "markdown",
   "metadata": {
    "slideshow": {
     "slide_type": "slide"
    }
   },
   "source": [
    "# What You Will Learn\n",
    "\n",
    "* Creating a log\n",
    "* Logging Levels\n",
    "* Logging Handlers\n",
    "* Logging Formatters\n",
    "* Logging to Multiple Locations\n",
    "* and more!"
   ]
  },
  {
   "cell_type": "markdown",
   "metadata": {
    "slideshow": {
     "slide_type": "slide"
    }
   },
   "source": [
    "# Creating a Log"
   ]
  },
  {
   "cell_type": "code",
   "execution_count": null,
   "metadata": {
    "slideshow": {
     "slide_type": "subslide"
    }
   },
   "outputs": [],
   "source": [
    "import logging\n",
    "\n",
    "logging.warning('This is a warning message')"
   ]
  },
  {
   "cell_type": "markdown",
   "metadata": {
    "slideshow": {
     "slide_type": "slide"
    }
   },
   "source": [
    "# Logging Levels"
   ]
  },
  {
   "cell_type": "markdown",
   "metadata": {
    "slideshow": {
     "slide_type": "subslide"
    }
   },
   "source": [
    "## Logging levels from lowest to highest\n",
    "\n",
    "* DEBUG - Detailed information, typically of interest only when diagnosing problems.\n",
    "\n",
    "* INFO - Confirmation that things are working as expected.\n",
    "\n",
    "* WARNING - An indication that something unexpected happened  (default level)\n",
    "\n",
    "* ERROR - A serious error has occurred\n",
    "\t\n",
    "* CRITICAL - The program has stopped or will stop\n"
   ]
  },
  {
   "cell_type": "markdown",
   "metadata": {
    "slideshow": {
     "slide_type": "subslide"
    }
   },
   "source": [
    "The lower the logging level, the more logging levels will be logged"
   ]
  },
  {
   "cell_type": "code",
   "execution_count": null,
   "metadata": {
    "slideshow": {
     "slide_type": "subslide"
    }
   },
   "outputs": [],
   "source": [
    "import logging\n",
    "\n",
    "logging.warning('This is a warning message')\n",
    "logging.info('This is an information message')  # this one won't work"
   ]
  },
  {
   "cell_type": "code",
   "execution_count": null,
   "metadata": {
    "slideshow": {
     "slide_type": "subslide"
    }
   },
   "outputs": [],
   "source": [
    "import logging\n",
    "\n",
    "logging.info('This is an information message')  # this one won't work\n",
    "logging.warning('This is a warning message')\n",
    "logging.error('An error has occurred')"
   ]
  },
  {
   "cell_type": "markdown",
   "metadata": {
    "slideshow": {
     "slide_type": "slide"
    }
   },
   "source": [
    "# Setting the Logging Level"
   ]
  },
  {
   "cell_type": "code",
   "execution_count": null,
   "metadata": {
    "slideshow": {
     "slide_type": "subslide"
    }
   },
   "outputs": [],
   "source": [
    "# setting_log_level.py\n",
    "\n",
    "import logging\n",
    "\n",
    "# add filemode=\"w\" to overwrite\n",
    "logging.basicConfig(filename=\"test.log\", level=logging.INFO)\n",
    "\n",
    "logging.debug(\"This is a debug message\") # This one won't log\n",
    "logging.info(\"Informational message\")\n",
    "logging.error(\"An error has happened!\")"
   ]
  },
  {
   "cell_type": "markdown",
   "metadata": {
    "slideshow": {
     "slide_type": "slide"
    }
   },
   "source": [
    "# Creating a Logger Object"
   ]
  },
  {
   "cell_type": "code",
   "execution_count": null,
   "metadata": {
    "slideshow": {
     "slide_type": "subslide"
    }
   },
   "outputs": [],
   "source": [
    "# create_logger.py\n",
    "\n",
    "import logging\n",
    "\n",
    "logging.basicConfig(filename=\"ex_logger.log\", level=logging.INFO)\n",
    "log = logging.getLogger(\"ex\")\n",
    "\n",
    "try:\n",
    "    raise RuntimeError\n",
    "except Exception, err:\n",
    "    log.exception(\"Error!\")"
   ]
  },
  {
   "cell_type": "markdown",
   "metadata": {
    "slideshow": {
     "slide_type": "slide"
    }
   },
   "source": [
    "# Logging Handlers"
   ]
  },
  {
   "cell_type": "markdown",
   "metadata": {
    "slideshow": {
     "slide_type": "subslide"
    }
   },
   "source": [
    "# Handler Types\n",
    "\n",
    "* StreamHandler - stdout, stderr or file-like objects\n",
    "* FileHandler - for writing to disk\n",
    "* RotatingFileHandler - supports log rotation\n",
    "* TimedRotatingFileHandler - supports rotation of disk log files at certain timed intervals\n"
   ]
  },
  {
   "cell_type": "markdown",
   "metadata": {
    "slideshow": {
     "slide_type": "subslide"
    }
   },
   "source": [
    "* SocketHandler - sends logging output to a network socket\n",
    "* SMTPHandler - supports sending logging messages to an email address via SMTP\n",
    "\n",
    "More handlers can be found here: https://docs.python.org/3/library/logging.handlers.html#module-logging.handlers"
   ]
  },
  {
   "cell_type": "code",
   "execution_count": null,
   "metadata": {
    "slideshow": {
     "slide_type": "subslide"
    }
   },
   "outputs": [],
   "source": [
    "# StreamHandler - stream_log.py\n",
    "\n",
    "import logging\n",
    "\n",
    "logger = logging.getLogger('stream_logger')\n",
    "logger.setLevel(logging.INFO)\n",
    "\n",
    "console = logging.StreamHandler()\n",
    "\n",
    "logger.addHandler(console)\n",
    "logger.info(\"This is an informational message\")"
   ]
  },
  {
   "cell_type": "code",
   "execution_count": null,
   "metadata": {
    "slideshow": {
     "slide_type": "subslide"
    }
   },
   "outputs": [],
   "source": [
    "# SMTPHandler - email_log.py\n",
    "\n",
    "import logging\n",
    "import logging.handlers\n",
    "\n",
    "logger = logging.getLogger(\"email_logger\")\n",
    "logger.setLevel(logging.INFO)\n",
    "fh = logging.handlers.SMTPHandler('smtp.my_server.com',\n",
    "                                  fromaddr='log@my_server.com',\n",
    "                                  toaddrs=['mike@my_server.com'],\n",
    "                                  subject='Python log')\n",
    "logger.addHandler(fh)\n",
    "logger.info(\"This is an informational message\")"
   ]
  },
  {
   "cell_type": "markdown",
   "metadata": {
    "slideshow": {
     "slide_type": "slide"
    }
   },
   "source": [
    "# Logging Formatters"
   ]
  },
  {
   "cell_type": "markdown",
   "metadata": {
    "slideshow": {
     "slide_type": "subslide"
    }
   },
   "source": [
    "Formatters allow you to add formatting to the log messages\n",
    "\n",
    "https://docs.python.org/3/library/logging.html#logrecord-attributes"
   ]
  },
  {
   "cell_type": "markdown",
   "metadata": {
    "slideshow": {
     "slide_type": "subslide"
    }
   },
   "source": [
    "# Formatter example\n",
    "\n",
    "\n",
    "```python\n",
    "formatter = logging.Formatter('%(asctime)s - %(name)s - %(message)s')\n",
    "```\n",
    "\n",
    "## Sample Output\n",
    "\n",
    "```\n",
    "2020-02-28 08:44:14,902 - LOGGER_NAME - This is an informational message\n",
    "```"
   ]
  },
  {
   "cell_type": "markdown",
   "metadata": {
    "slideshow": {
     "slide_type": "subslide"
    }
   },
   "source": [
    "LogRecord attributes:\n",
    "\n",
    "https://docs.python.org/3/library/logging.html#logrecord-attributes"
   ]
  },
  {
   "cell_type": "code",
   "execution_count": null,
   "metadata": {
    "slideshow": {
     "slide_type": "subslide"
    }
   },
   "outputs": [],
   "source": [
    "# log_formatter.py\n",
    "\n",
    "import logging\n",
    "\n",
    "logger = logging.getLogger('stream_logger')\n",
    "logger.setLevel(logging.INFO)\n",
    "\n",
    "console = logging.StreamHandler()\n",
    "formatter = logging.Formatter('%(asctime)s - %(name)s - %(message)s')\n",
    "console.setFormatter(formatter)\n",
    "\n",
    "logger.addHandler(console)\n",
    "logger.info(\"This is an informational message\")"
   ]
  },
  {
   "cell_type": "markdown",
   "metadata": {
    "slideshow": {
     "slide_type": "slide"
    }
   },
   "source": [
    "The `logging` module is thread-safe"
   ]
  },
  {
   "cell_type": "markdown",
   "metadata": {
    "slideshow": {
     "slide_type": "slide"
    }
   },
   "source": [
    "Logging may not work in asynchronous contexts\n",
    "\n",
    "But you can use the QueueHandler as a workaround\n",
    "\n",
    "https://docs.python.org/3/library/logging.handlers.html#queuehandler\n",
    "\n",
    "https://www.zopatista.com/python/2019/05/11/asyncio-logging/"
   ]
  },
  {
   "cell_type": "markdown",
   "metadata": {
    "slideshow": {
     "slide_type": "slide"
    }
   },
   "source": [
    "# Logging to Multiple Handlers"
   ]
  },
  {
   "cell_type": "code",
   "execution_count": null,
   "metadata": {
    "slideshow": {
     "slide_type": "subslide"
    }
   },
   "outputs": [],
   "source": [
    "import logging\n",
    "import os\n",
    "\n",
    "def log(path, multipleLocs=False):\n",
    "    \"\"\"\n",
    "    Log to multiple locations if multipleLocs is True\n",
    "    \"\"\"\n",
    "    fname = os.path.splitext(path)[0]\n",
    "    logger = logging.getLogger(\"Test_logger_%s\" % fname)\n",
    "    logger.setLevel(logging.INFO)\n",
    "    fh = logging.FileHandler(path)\n",
    "    formatter = logging.Formatter('%(asctime)s - %(name)s - %(message)s')\n",
    "    fh.setFormatter(formatter)\n",
    "    logger.addHandler(fh)\n",
    "\n",
    "    if multipleLocs:\n",
    "        console = logging.StreamHandler()\n",
    "        console.setLevel(logging.INFO)\n",
    "        console.setFormatter(formatter)\n",
    "        logger.addHandler(console)\n",
    "\n",
    "    logger.info(\"This is an informational message\")\n",
    "    try:\n",
    "        1 / 0\n",
    "    except ZeroDivisionError:\n",
    "        logger.exception(\"You can't do that!\")\n",
    "\n",
    "    logger.critical(\"THIS IS A SHOW STOPPER!!!\")"
   ]
  },
  {
   "cell_type": "markdown",
   "metadata": {
    "slideshow": {
     "slide_type": "slide"
    }
   },
   "source": [
    "# Logging Exceptions\n",
    "\n",
    "```python\n",
    "try:\n",
    "    1 / 0\n",
    "except ZeroDivisionError:\n",
    "    logger.exception(\"You can't do that!\")\n",
    "```"
   ]
  },
  {
   "cell_type": "markdown",
   "metadata": {
    "slideshow": {
     "slide_type": "subslide"
    }
   },
   "source": [
    "```\n",
    "2020-03-02 11:51:14,698 - Test_logger_sample2 - You can't do that!\n",
    "Traceback (most recent call last):\n",
    "  File \"/Users/michael/Dropbox/pyowa/talks/log_multiple_locations.py\", line 24, in log\n",
    "    1 / 0\n",
    "```"
   ]
  },
  {
   "cell_type": "markdown",
   "metadata": {
    "slideshow": {
     "slide_type": "slide"
    }
   },
   "source": [
    "# Configuring Logging\n",
    "\n",
    "* https://docs.python.org/3/library/logging.config.html\n",
    "* fileConfig\n",
    "* dictConfig"
   ]
  },
  {
   "cell_type": "markdown",
   "metadata": {
    "slideshow": {
     "slide_type": "subslide"
    }
   },
   "source": [
    "# Using a fileConfig"
   ]
  },
  {
   "cell_type": "code",
   "execution_count": null,
   "metadata": {
    "slideshow": {
     "slide_type": "subslide"
    }
   },
   "outputs": [],
   "source": [
    "[loggers]\n",
    "keys=root,exampleApp\n",
    "\n",
    "[handlers]\n",
    "keys=fileHandler, consoleHandler\n",
    "\n",
    "[formatters]\n",
    "keys=myFormatter\n",
    "\n",
    "[logger_root]\n",
    "level=CRITICAL\n",
    "handlers=consoleHandler\n",
    "\n",
    "[logger_exampleApp]\n",
    "level=INFO\n",
    "handlers=fileHandler\n",
    "qualname=exampleApp\n",
    "\n",
    "[handler_consoleHandler]\n",
    "class=StreamHandler\n",
    "level=DEBUG\n",
    "formatter=myFormatter\n",
    "args=(sys.stdout,)\n",
    "\n",
    "[handler_fileHandler]\n",
    "class=FileHandler\n",
    "formatter=myFormatter\n",
    "args=(\"config.log\",)\n",
    "\n",
    "[formatter_myFormatter]\n",
    "format=%(asctime)s - %(name)s - %(levelname)s - %(message)s\n",
    "datefmt="
   ]
  },
  {
   "cell_type": "code",
   "execution_count": null,
   "metadata": {
    "slideshow": {
     "slide_type": "subslide"
    }
   },
   "outputs": [],
   "source": [
    "# logging_with_config_file.py\n",
    "\n",
    "import logging\n",
    "import logging.config\n",
    "\n",
    "logging.config.fileConfig('logging.conf')\n",
    "logger = logging.getLogger(\"exampleApp\")\n",
    "\n",
    "logger.info(\"Program started\")\n",
    "logger.info(\"Done!\")"
   ]
  },
  {
   "cell_type": "markdown",
   "metadata": {
    "slideshow": {
     "slide_type": "slide"
    }
   },
   "source": [
    "# Using a dictConfig"
   ]
  },
  {
   "cell_type": "code",
   "execution_count": null,
   "metadata": {
    "slideshow": {
     "slide_type": "subslide"
    }
   },
   "outputs": [],
   "source": [
    "import logging\n",
    "import logging.config\n",
    "\n",
    "dictLogConfig = {\n",
    "    \"version\":1,\n",
    "    \"handlers\":{\n",
    "                \"fileHandler\":{\n",
    "                    \"class\":\"logging.FileHandler\",\n",
    "                    \"formatter\":\"myFormatter\",\n",
    "                    \"filename\":\"dict_config.log\"\n",
    "                    }\n",
    "                },\n",
    "    \"loggers\":{\n",
    "        \"exampleApp\":{\n",
    "            \"handlers\":[\"fileHandler\"],\n",
    "            \"level\":\"INFO\",\n",
    "            }\n",
    "        },\n",
    "\n",
    "    \"formatters\":{\n",
    "        \"myFormatter\":{\n",
    "            \"format\":\"%(asctime)s - %(name)s - %(levelname)s - %(message)s\"\n",
    "            }\n",
    "        }\n",
    "    }"
   ]
  },
  {
   "cell_type": "code",
   "execution_count": null,
   "metadata": {
    "slideshow": {
     "slide_type": "subslide"
    }
   },
   "outputs": [],
   "source": [
    "logging.config.dictConfig(dictLogConfig)\n",
    "\n",
    "logger = logging.getLogger(\"exampleApp\")\n",
    "\n",
    "logger.info(\"Program started\")\n",
    "logger.info(\"Done!\")"
   ]
  },
  {
   "cell_type": "markdown",
   "metadata": {
    "slideshow": {
     "slide_type": "slide"
    }
   },
   "source": [
    "# Rotating Logs"
   ]
  },
  {
   "cell_type": "code",
   "execution_count": null,
   "metadata": {
    "slideshow": {
     "slide_type": "subslide"
    }
   },
   "outputs": [],
   "source": [
    "import logging\n",
    "import time\n",
    "from logging.handlers import RotatingFileHandler\n",
    "\n",
    "def create_rotating_log(path):\n",
    "    \"\"\"\n",
    "    Creates a rotating log\n",
    "    \"\"\"\n",
    "    logger = logging.getLogger(\"Rotating Log\")\n",
    "    logger.setLevel(logging.INFO)\n",
    "\n",
    "    # add a rotating handler\n",
    "    handler = RotatingFileHandler(path, maxBytes=20,\n",
    "                                  backupCount=5)\n",
    "    logger.addHandler(handler)\n",
    "\n",
    "    for i in range(10):\n",
    "        logger.info(\"This is test log line %s\" % i)\n",
    "        time.sleep(1.5)\n",
    "\n",
    "\n",
    "if __name__ == \"__main__\":\n",
    "    log_file = \"rotated.log\"\n",
    "    create_rotating_log(log_file)"
   ]
  },
  {
   "cell_type": "markdown",
   "metadata": {
    "slideshow": {
     "slide_type": "slide"
    }
   },
   "source": [
    "# Creating a Logging Decorator\n",
    "\n",
    "https://www.blog.pythonlibrary.org/2016/06/09/python-how-to-create-an-exception-logging-decorator/"
   ]
  },
  {
   "cell_type": "markdown",
   "metadata": {
    "slideshow": {
     "slide_type": "slide"
    }
   },
   "source": [
    "# Other Logging Packages\n",
    "\n",
    "* structlog - http://www.structlog.org/en/stable/"
   ]
  },
  {
   "cell_type": "markdown",
   "metadata": {
    "slideshow": {
     "slide_type": "slide"
    }
   },
   "source": [
    "# Questions?"
   ]
  },
  {
   "cell_type": "code",
   "execution_count": null,
   "metadata": {},
   "outputs": [],
   "source": []
  }
 ],
 "metadata": {
  "celltoolbar": "Slideshow",
  "kernelspec": {
   "display_name": "Python 3",
   "language": "python",
   "name": "python3"
  },
  "language_info": {
   "codemirror_mode": {
    "name": "ipython",
    "version": 3
   },
   "file_extension": ".py",
   "mimetype": "text/x-python",
   "name": "python",
   "nbconvert_exporter": "python",
   "pygments_lexer": "ipython3",
   "version": "3.6.4"
  }
 },
 "nbformat": 4,
 "nbformat_minor": 2
}
