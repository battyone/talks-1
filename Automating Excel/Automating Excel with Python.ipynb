{
 "cells": [
  {
   "cell_type": "markdown",
   "metadata": {
    "slideshow": {
     "slide_type": "slide"
    }
   },
   "source": [
    "# Automating Excel with Python\n",
    "\n",
    "## Mike Driscoll ([@driscollis](https://twitter.com/driscollis))\n"
   ]
  },
  {
   "cell_type": "markdown",
   "metadata": {
    "slideshow": {
     "slide_type": "slide"
    }
   },
   "source": [
    "# About Me\n",
    "\n",
    "* Author\n",
    "* Blogger\n",
    "* Content creator\n",
    "* Wrote a book on Excel and Python"
   ]
  },
  {
   "cell_type": "markdown",
   "metadata": {
    "slideshow": {
     "slide_type": "slide"
    }
   },
   "source": [
    "# Python Excel Packages\n",
    "\n",
    "- [OpenPyXL](https://openpyxl.readthedocs.io/en/stable/) (free)\n",
    "- [XlsxWriter](https://pypi.org/project/XlsxWriter/) (free)\n",
    "- [xlrd](https://pypi.org/project/xlrd/) / [xlwt](https://pypi.python.org/pypi/xlwt) (free)\n",
    "- [XLWings](https://www.xlwings.org/) (free and paid versions)\n",
    "- [PyXLL](https://www.pyxll.com/) (paid)\n",
    "- [Website of Excel tools for Python](https://www.python-excel.org/)"
   ]
  },
  {
   "cell_type": "markdown",
   "metadata": {
    "slideshow": {
     "slide_type": "slide"
    }
   },
   "source": [
    "# Why OpenPyXL?\n",
    "\n",
    "- Free\n",
    "- Works without Excel\n",
    "- Reads and Writes Excel"
   ]
  },
  {
   "cell_type": "markdown",
   "metadata": {
    "slideshow": {
     "slide_type": "slide"
    }
   },
   "source": [
    "# Installation\n",
    "\n",
    "```\n",
    "python3 -m pip install openpyxl\n",
    "```"
   ]
  },
  {
   "cell_type": "markdown",
   "metadata": {
    "slideshow": {
     "slide_type": "slide"
    }
   },
   "source": [
    "# Reading Excel Spreadsheets\n",
    "\n",
    "We will look at several different reading methods!"
   ]
  },
  {
   "cell_type": "code",
   "execution_count": null,
   "metadata": {
    "slideshow": {
     "slide_type": "subslide"
    }
   },
   "outputs": [],
   "source": [
    "from openpyxl import load_workbook\n",
    "\n",
    "\n",
    "def open_workbook(path):\n",
    "    workbook = load_workbook(filename=path)\n",
    "    print(f\"Worksheet names: {workbook.sheetnames}\")\n",
    "    sheet = workbook.active\n",
    "    print(sheet)\n",
    "    print(f\"The title of the Worksheet is: {sheet.title}\")\n",
    "\n",
    "\n",
    "if __name__ == \"__main__\":\n",
    "    open_workbook(\"books.xlsx\")"
   ]
  },
  {
   "cell_type": "markdown",
   "metadata": {
    "slideshow": {
     "slide_type": "slide"
    }
   },
   "source": [
    "# Reading Specific Cells"
   ]
  },
  {
   "cell_type": "code",
   "execution_count": null,
   "metadata": {
    "slideshow": {
     "slide_type": "subslide"
    }
   },
   "outputs": [],
   "source": [
    "from openpyxl import load_workbook\n",
    "\n",
    "\n",
    "def get_cell_info(path):\n",
    "    workbook = load_workbook(filename=path)\n",
    "    sheet = workbook.active\n",
    "    print(sheet)\n",
    "    print(f'The title of the Worksheet is: {sheet.title}')\n",
    "    print(f'The value of {sheet[\"A2\"].value=}')\n",
    "    print(f'The value of {sheet[\"A3\"].value=}')\n",
    "    cell = sheet['B3']\n",
    "    print(f'{cell.value=}')\n",
    "    \n",
    "if __name__ == '__main__':\n",
    "    get_cell_info('books.xlsx')"
   ]
  },
  {
   "cell_type": "markdown",
   "metadata": {
    "slideshow": {
     "slide_type": "slide"
    }
   },
   "source": [
    "# Reading a Range of Cells"
   ]
  },
  {
   "cell_type": "code",
   "execution_count": null,
   "metadata": {
    "slideshow": {
     "slide_type": "subslide"
    }
   },
   "outputs": [],
   "source": [
    "import openpyxl\n",
    "from openpyxl import load_workbook\n",
    "\n",
    "\n",
    "def iterating_over_values(path, sheet_name, cell_range):\n",
    "    workbook = load_workbook(filename=path)\n",
    "    if sheet_name not in workbook.sheetnames:\n",
    "        print(f\"'{sheet_name}' not found. Quitting.\")\n",
    "        return\n",
    "\n",
    "    sheet = workbook[sheet_name]\n",
    "    for column in sheet[cell_range]:\n",
    "        for cell in column:\n",
    "            if isinstance(cell, openpyxl.cell.cell.MergedCell):\n",
    "                # Skip this cell\n",
    "                continue\n",
    "            print(f\"{cell.column_letter}{cell.row} = {cell.value}\")\n",
    "\n",
    "\n",
    "if __name__ == \"__main__\":\n",
    "    iterating_over_values(\"books.xlsx\", sheet_name=\"Sheet 1 - Books\",\n",
    "                          cell_range=\"A1:B6\")\n"
   ]
  },
  {
   "cell_type": "markdown",
   "metadata": {
    "slideshow": {
     "slide_type": "slide"
    }
   },
   "source": [
    "# Reading All Data"
   ]
  },
  {
   "cell_type": "code",
   "execution_count": null,
   "metadata": {
    "scrolled": true,
    "slideshow": {
     "slide_type": "subslide"
    }
   },
   "outputs": [],
   "source": [
    "import openpyxl\n",
    "from openpyxl import load_workbook\n",
    "\n",
    "workbook = load_workbook(filename=\"books.xlsx\")\n",
    "for sheet_name in workbook.sheetnames:\n",
    "    sheet = workbook[sheet_name]\n",
    "    print(f\"{sheet.title=}\")\n",
    "    for value in sheet.iter_rows(values_only=True):\n",
    "        print(value)"
   ]
  },
  {
   "cell_type": "markdown",
   "metadata": {
    "slideshow": {
     "slide_type": "slide"
    }
   },
   "source": [
    "# Creating Excel Spreadsheets\n"
   ]
  },
  {
   "cell_type": "code",
   "execution_count": null,
   "metadata": {
    "slideshow": {
     "slide_type": "subslide"
    }
   },
   "outputs": [],
   "source": [
    "from openpyxl import Workbook\n",
    "\n",
    "workbook = Workbook()\n",
    "workbook.save(\"hello.xlsx\")"
   ]
  },
  {
   "cell_type": "markdown",
   "metadata": {
    "slideshow": {
     "slide_type": "slide"
    }
   },
   "source": [
    "# Creating Sheets"
   ]
  },
  {
   "cell_type": "code",
   "execution_count": null,
   "metadata": {
    "slideshow": {
     "slide_type": "subslide"
    }
   },
   "outputs": [],
   "source": [
    "import openpyxl\n",
    "\n",
    "\n",
    "workbook = openpyxl.Workbook()\n",
    "print(workbook.sheetnames)\n",
    "# Add a new worksheet\n",
    "workbook.create_sheet()\n",
    "print(workbook.sheetnames)\n",
    "# Insert a worksheet\n",
    "workbook.create_sheet(index=1, title=\"Second sheet\")\n",
    "print(workbook.sheetnames)\n",
    "workbook.save(\"sheets.xlsx\")"
   ]
  },
  {
   "cell_type": "markdown",
   "metadata": {
    "slideshow": {
     "slide_type": "slide"
    }
   },
   "source": [
    "# Adding Data"
   ]
  },
  {
   "cell_type": "code",
   "execution_count": null,
   "metadata": {
    "slideshow": {
     "slide_type": "subslide"
    }
   },
   "outputs": [],
   "source": [
    "from openpyxl import Workbook\n",
    "\n",
    "workbook = Workbook()\n",
    "sheet = workbook.active\n",
    "sheet[\"A1\"] = \"Hello\"\n",
    "sheet[\"A2\"] = \"from\"\n",
    "sheet[\"A3\"] = \"OpenPyXL\"\n",
    "workbook.save(\"hello.xlsx\")"
   ]
  },
  {
   "cell_type": "markdown",
   "metadata": {
    "slideshow": {
     "slide_type": "slide"
    }
   },
   "source": [
    "# Deleting Data"
   ]
  },
  {
   "cell_type": "code",
   "execution_count": null,
   "metadata": {
    "slideshow": {
     "slide_type": "subslide"
    }
   },
   "outputs": [],
   "source": [
    "from openpyxl import Workbook\n",
    "\n",
    "workbook = Workbook()\n",
    "sheet = workbook.active\n",
    "sheet[\"A1\"] = \"Hello\"\n",
    "sheet[\"B1\"] = \"from\"\n",
    "sheet[\"C1\"] = \"OpenPyXL\"\n",
    "sheet[\"A2\"] = \"row 2\"\n",
    "sheet[\"A3\"] = \"row 3\"\n",
    "sheet[\"A4\"] = \"row 4\"\n",
    "# Delete column A\n",
    "sheet.delete_cols(idx=1)\n",
    "# delete 2 rows starting on the second row\n",
    "sheet.delete_rows(idx=2, amount=2)\n",
    "workbook.save(\"deleting.xlsx\")"
   ]
  },
  {
   "cell_type": "markdown",
   "metadata": {
    "slideshow": {
     "slide_type": "slide"
    }
   },
   "source": [
    "# Cell Styling"
   ]
  },
  {
   "cell_type": "code",
   "execution_count": null,
   "metadata": {
    "slideshow": {
     "slide_type": "subslide"
    }
   },
   "outputs": [],
   "source": [
    "from openpyxl import Workbook\n",
    "\n",
    "workbook = Workbook()\n",
    "sheet = workbook.active\n",
    "sheet[\"A1\"].value = \"Hello\"\n",
    "sheet[\"A1\"].style = \"Title\"\n",
    "\n",
    "sheet[\"A2\"].value = \"from\"\n",
    "sheet[\"A2\"].style = \"Headline 1\"\n",
    "\n",
    "sheet[\"A3\"].value = \"OpenPyXL\"\n",
    "sheet[\"A3\"].style = \"Headline 2\"\n",
    "\n",
    "workbook.save(\"builtin_styles.xlsx\")"
   ]
  },
  {
   "cell_type": "markdown",
   "metadata": {
    "slideshow": {
     "slide_type": "slide"
    }
   },
   "source": [
    "# Named Style"
   ]
  },
  {
   "cell_type": "code",
   "execution_count": null,
   "metadata": {
    "slideshow": {
     "slide_type": "subslide"
    }
   },
   "outputs": [],
   "source": [
    "# named_style.py\n",
    "\n",
    "from openpyxl import Workbook\n",
    "from openpyxl.styles import Font, Border, Side, NamedStyle\n",
    "\n",
    "workbook = Workbook()\n",
    "sheet = workbook.active\n",
    "\n",
    "red = \"00FF0000\"\n",
    "font = Font(bold=True, size=22)\n",
    "thick = Side(style=\"thick\", color=red)\n",
    "border = Border(left=thick, right=thick, top=thick, bottom=thick)\n",
    "named_style = NamedStyle(name=\"highlight\", font=font, border=border)\n",
    "\n",
    "sheet[\"A1\"].value = \"Hello\"\n",
    "sheet[\"A1\"].style = named_style\n",
    "\n",
    "sheet[\"A2\"].value = \"from\"\n",
    "sheet[\"A3\"].value = \"OpenPyXL\"\n",
    "\n",
    "workbook.save(\"named_style.xlsx\")"
   ]
  },
  {
   "cell_type": "markdown",
   "metadata": {
    "slideshow": {
     "slide_type": "slide"
    }
   },
   "source": [
    "# Fonts"
   ]
  },
  {
   "cell_type": "code",
   "execution_count": null,
   "metadata": {
    "slideshow": {
     "slide_type": "subslide"
    }
   },
   "outputs": [],
   "source": [
    "import openpyxl\n",
    "from openpyxl.styles import Font\n",
    "\n",
    "\n",
    "workbook = openpyxl.Workbook()\n",
    "sheet = workbook.active\n",
    "cell = sheet[\"A1\"]\n",
    "cell.font = Font(size=12)\n",
    "cell.value = \"Hello\"\n",
    "\n",
    "cell2 = sheet[\"A2\"]\n",
    "cell2.font = Font(name=\"Arial\", size=14, color=\"00FF0000\")\n",
    "sheet[\"A2\"] = \"from\"\n",
    "\n",
    "cell2 = sheet[\"A3\"]\n",
    "cell2.font = Font(name=\"Tahoma\", size=16, color=\"00339966\")\n",
    "sheet[\"A3\"] = \"OpenPyXL\"\n",
    "\n",
    "workbook.save(\"font_demo.xlsx\")"
   ]
  },
  {
   "cell_type": "markdown",
   "metadata": {
    "slideshow": {
     "slide_type": "slide"
    }
   },
   "source": [
    "# Creating Charts"
   ]
  },
  {
   "cell_type": "code",
   "execution_count": null,
   "metadata": {
    "slideshow": {
     "slide_type": "subslide"
    }
   },
   "outputs": [],
   "source": [
    "from openpyxl import Workbook\n",
    "from openpyxl.chart import BarChart, Reference\n",
    "\n",
    "workbook = Workbook()\n",
    "sheet = workbook.active\n",
    "\n",
    "# Add data to spreadsheet\n",
    "data_rows = [[\"Book\", \"Kindle\", \"Paperback\"], [1, 9.99, 15.99],\n",
    "             [2, 9.99, 25.99], [3, 9.99, 25.99], [4, 4.99, 29.99],\n",
    "             [5, 14.99, 39.99],]\n",
    "\n",
    "for row in data_rows:\n",
    "    sheet.append(row)\n",
    "\n",
    "# Create the bar chart\n",
    "bar_chart = BarChart()\n",
    "\n",
    "data = Reference(worksheet=sheet,\n",
    "                 min_row=1,\n",
    "                 max_row=10,\n",
    "                 min_col=2,\n",
    "                 max_col=3)\n",
    "bar_chart.add_data(data, titles_from_data=True)\n",
    "sheet.add_chart(bar_chart, \"E2\")\n",
    "\n",
    "workbook.save(\"bar_chart.xlsx\")"
   ]
  },
  {
   "cell_type": "markdown",
   "metadata": {
    "slideshow": {
     "slide_type": "slide"
    }
   },
   "source": [
    "# Other charts\n",
    "\n",
    "(see book code examples)"
   ]
  },
  {
   "cell_type": "markdown",
   "metadata": {
    "slideshow": {
     "slide_type": "slide"
    }
   },
   "source": [
    "# 🐼 pandas and Excel 🐼\n",
    "\n",
    "https://pandas.pydata.org/"
   ]
  },
  {
   "cell_type": "markdown",
   "metadata": {
    "slideshow": {
     "slide_type": "slide"
    }
   },
   "source": [
    "# Creating Excel with pandas 🐼"
   ]
  },
  {
   "cell_type": "code",
   "execution_count": null,
   "metadata": {
    "slideshow": {
     "slide_type": "subslide"
    }
   },
   "outputs": [],
   "source": [
    "import pandas as pd\n",
    "\n",
    "df = pd.DataFrame([[100, 433, 10], [34, 10, 0], [75, 125, 5]],\n",
    "                  index=['Python 101', 'Python 201', 'wxPython'],\n",
    "                  columns=['Amazon', 'Leanpub', 'Gumroad'])\n",
    "df.to_excel('pandas_to_excel.xlsx', sheet_name='Books')"
   ]
  },
  {
   "cell_type": "markdown",
   "metadata": {
    "slideshow": {
     "slide_type": "slide"
    }
   },
   "source": [
    "# Combining OpenPyXL and pandas 🐼"
   ]
  },
  {
   "cell_type": "code",
   "execution_count": null,
   "metadata": {
    "slideshow": {
     "slide_type": "subslide"
    }
   },
   "outputs": [],
   "source": [
    "import pandas as pd\n",
    "import openpyxl\n",
    "from openpyxl.utils.dataframe import dataframe_to_rows\n",
    "\n",
    "workbook = openpyxl.Workbook()\n",
    "sheet = workbook.active\n",
    "\n",
    "df = pd.DataFrame(\n",
    "    [[100, 433, 10], [34, 10, 0], [75, 125, 5]],\n",
    "    index=[\"Python 101\", \"Python 201\", \"wxPython\"],\n",
    "    columns=[\"Amazon\", \"Leanpub\", \"Gumroad\"],\n",
    ")\n",
    "\n",
    "for row in dataframe_to_rows(df):\n",
    "    sheet.append(row)\n",
    "workbook.save(\"df_to_excel.xlsx\")"
   ]
  },
  {
   "cell_type": "markdown",
   "metadata": {
    "slideshow": {
     "slide_type": "slide"
    }
   },
   "source": [
    "# Convert CSV to Excel with pandas 🐼"
   ]
  },
  {
   "cell_type": "code",
   "execution_count": null,
   "metadata": {
    "slideshow": {
     "slide_type": "subslide"
    }
   },
   "outputs": [],
   "source": [
    "import pandas as pd\n",
    "\n",
    "\n",
    "def csv_to_excel(csv_file, excel_file, sheet_name):\n",
    "    df = pd.read_csv(csv_file)\n",
    "    df.to_excel(excel_file, sheet_name=sheet_name)\n",
    "    \n",
    "    \n",
    "if __name__ == \"__main__\":\n",
    "    csv_to_excel(\"books.csv\", \"pandas_csv_to_excel.xlsx\", \"Books\")"
   ]
  },
  {
   "cell_type": "markdown",
   "metadata": {
    "slideshow": {
     "slide_type": "slide"
    }
   },
   "source": [
    "# Plotting with pandas 🐼"
   ]
  },
  {
   "cell_type": "code",
   "execution_count": null,
   "metadata": {
    "slideshow": {
     "slide_type": "subslide"
    }
   },
   "outputs": [],
   "source": [
    "import pandas as pd\n",
    "\n",
    "df = pd.DataFrame([[100, 433, 10], [34, 10, 0], [75, 125, 5]],\n",
    "                  index=['Python 101', 'Python 201', 'wxPython'],\n",
    "                  columns=['Amazon', 'Leanpub', 'Gumroad'])\n",
    "df.plot()"
   ]
  },
  {
   "cell_type": "markdown",
   "metadata": {
    "slideshow": {
     "slide_type": "slide"
    }
   },
   "source": [
    "# XlsxWriter\n",
    "\n",
    "https://pypi.org/project/XlsxWriter/"
   ]
  },
  {
   "cell_type": "markdown",
   "metadata": {
    "slideshow": {
     "slide_type": "slide"
    }
   },
   "source": [
    "# Pros and Cons of XlsxWriter\n",
    "\n",
    "- Can do similar things as OpenPyXL\n",
    "- Can do Sparklines, which OpenPyXL **CANNOT** do!\n",
    "- Does data validation\n",
    "- Can't read Excel - only write!"
   ]
  },
  {
   "cell_type": "markdown",
   "metadata": {
    "slideshow": {
     "slide_type": "slide"
    }
   },
   "source": [
    "# Create Excel with XslxWriter"
   ]
  },
  {
   "cell_type": "code",
   "execution_count": null,
   "metadata": {
    "slideshow": {
     "slide_type": "subslide"
    }
   },
   "outputs": [],
   "source": [
    "import xlsxwriter\n",
    "\n",
    "\n",
    "workbook = xlsxwriter.Workbook(\"hello.xlsx\"))\n",
    "sheet = workbook.add_worksheet(name=\"Hello\")\n",
    "data = [[\"Python 101\", 1000],\n",
    "        [\"Jupyter Notebook 101\", 400],\n",
    "        [\"ReportLab: PDF Processing\", 250]\n",
    "]\n",
    "\n",
    "row = 0\n",
    "col = 0\n",
    "for book, sales in data:\n",
    "    sheet.write(row, col, book)\n",
    "    sheet.write(row, col + 1, sales)\n",
    "    row += 1\n",
    "\n",
    "sheet2 = workbook.add_worksheet(name=\"World\")\n",
    "workbook.close()"
   ]
  },
  {
   "cell_type": "markdown",
   "metadata": {
    "slideshow": {
     "slide_type": "slide"
    }
   },
   "source": [
    "# Data Validation"
   ]
  },
  {
   "cell_type": "code",
   "execution_count": null,
   "metadata": {
    "slideshow": {
     "slide_type": "subslide"
    }
   },
   "outputs": [],
   "source": [
    "import xlsxwriter\n",
    "\n",
    "workbook = xlsxwriter.Workbook(\"validation.xlsx\")\n",
    "sheet = workbook.add_worksheet()\n",
    "\n",
    "sheet.set_column('A:A', 34)\n",
    "sheet.set_column('B:B', 15)\n",
    "\n",
    "header_format = workbook.add_format(\n",
    "    {\n",
    "        \"border\": 1,\n",
    "        \"bg_color\": \"#33f3ff\",\n",
    "        \"bold\": True,\n",
    "        \"text_wrap\": True,\n",
    "        \"valign\": \"vcenter\",\n",
    "        \"indent\": 1,\n",
    "    }\n",
    ")\n",
    "\n",
    "sheet.write(\"A1\", \"Data Validation Example\", header_format)\n",
    "sheet.write(\"B1\", \"Enter Values Here\", header_format)\n",
    "\n",
    "sheet.write(\"A3\", \"Enter an integer between 1 and 15\")\n",
    "sheet.data_validation(\n",
    "    \"B3\",\n",
    "    {\"validate\": \"integer\", \"criteria\": \"between\",\n",
    "     \"minimum\": 1, \"maximum\": 15},\n",
    ")\n",
    "workbook.close()"
   ]
  },
  {
   "cell_type": "markdown",
   "metadata": {
    "slideshow": {
     "slide_type": "slide"
    }
   },
   "source": [
    "# Sparklines"
   ]
  },
  {
   "cell_type": "markdown",
   "metadata": {
    "slideshow": {
     "slide_type": "slide"
    }
   },
   "source": [
    "# Questions"
   ]
  }
 ],
 "metadata": {
  "celltoolbar": "Slideshow",
  "kernelspec": {
   "display_name": "Python 3",
   "language": "python",
   "name": "python3"
  },
  "language_info": {
   "codemirror_mode": {
    "name": "ipython",
    "version": 3
   },
   "file_extension": ".py",
   "mimetype": "text/x-python",
   "name": "python",
   "nbconvert_exporter": "python",
   "pygments_lexer": "ipython3",
   "version": "3.8.1"
  }
 },
 "nbformat": 4,
 "nbformat_minor": 4
}
