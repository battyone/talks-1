{
 "cells": [
  {
   "cell_type": "markdown",
   "metadata": {
    "slideshow": {
     "slide_type": "slide"
    }
   },
   "source": [
    "# Intro to Testing with Python\n",
    "\n",
    "by Mike Driscoll"
   ]
  },
  {
   "cell_type": "markdown",
   "metadata": {
    "slideshow": {
     "slide_type": "slide"
    }
   },
   "source": [
    "# About Me\n",
    "\n",
    "* Author \n",
    "* Blogger\n",
    "* Content creator"
   ]
  },
  {
   "cell_type": "markdown",
   "metadata": {
    "slideshow": {
     "slide_type": "slide"
    }
   },
   "source": [
    "# Python Testing Modules\n",
    "\n",
    "- `doctest`\n",
    "- `unittest`\n",
    "- `unittest.mock`\n"
   ]
  },
  {
   "cell_type": "markdown",
   "metadata": {
    "slideshow": {
     "slide_type": "slide"
    }
   },
   "source": [
    "# 3rd Party Testing Packages\n",
    "\n",
    "- [pytest](https://docs.pytest.org/en/7.1.x/) - Test framework\n",
    "- [Robot Framework](https://pypi.org/project/robotframework/) - Acceptance / automated testing\n",
    "- [Coverage.py](https://coverage.readthedocs.io/en/6.3.2/) - Code coverage tool\n",
    "- [tox](https://tox.wiki/en/latest/) - is a generic virtualenv management and test command line tool"
   ]
  },
  {
   "cell_type": "markdown",
   "metadata": {
    "slideshow": {
     "slide_type": "slide"
    }
   },
   "source": [
    "# Python's `doctest`\n",
    "\n",
    "[Python Testing with doctest](https://www.blog.pythonlibrary.org/2014/03/17/python-testing-with-doctest/)"
   ]
  },
  {
   "cell_type": "code",
   "execution_count": null,
   "metadata": {
    "slideshow": {
     "slide_type": "subslide"
    }
   },
   "outputs": [],
   "source": [
    "# dtest.py\n",
    "\n",
    "def double(a):\n",
    "    \"\"\"\n",
    "    >>> double(4)\n",
    "    8\n",
    "    >>> double(9)\n",
    "    18\n",
    "    \"\"\"\n",
    "    return a * 2"
   ]
  },
  {
   "cell_type": "markdown",
   "metadata": {
    "slideshow": {
     "slide_type": "slide"
    }
   },
   "source": [
    "# How to run `doctest`\n",
    "\n",
    "`python3 -m doctest dtest.py`"
   ]
  },
  {
   "cell_type": "markdown",
   "metadata": {
    "slideshow": {
     "slide_type": "slide"
    }
   },
   "source": [
    "# Where's the Output?\n",
    "\n",
    "`python3 -m doctest -v dtest1.py`"
   ]
  },
  {
   "cell_type": "markdown",
   "metadata": {
    "slideshow": {
     "slide_type": "slide"
    }
   },
   "source": [
    "# Running `doctest` Inside a Module"
   ]
  },
  {
   "cell_type": "code",
   "execution_count": 11,
   "metadata": {
    "slideshow": {
     "slide_type": "subslide"
    }
   },
   "outputs": [
    {
     "name": "stdout",
     "output_type": "stream",
     "text": [
      "Trying:\n",
      "    double(4)\n",
      "Expecting:\n",
      "    8\n",
      "ok\n",
      "Trying:\n",
      "    double(9)\n",
      "Expecting:\n",
      "    18\n",
      "ok\n",
      "6 items had no tests:\n",
      "    __main__\n",
      "    __main__.TestAdd\n",
      "    __main__.TestAdd.test_add_integers\n",
      "    __main__.dummy_reader\n",
      "    __main__.main\n",
      "    __main__.my_side_effect\n",
      "1 items passed all tests:\n",
      "   2 tests in __main__.double\n",
      "2 tests in 7 items.\n",
      "2 passed and 0 failed.\n",
      "Test passed.\n"
     ]
    }
   ],
   "source": [
    "def double(a):\n",
    "    \"\"\"\n",
    "    >>> double(4)\n",
    "    8\n",
    "    >>> double(9)\n",
    "    18\n",
    "    \"\"\"\n",
    "    return a*2\n",
    "\n",
    "if __name__ == \"__main__\":\n",
    "    import doctest\n",
    "    doctest.testmod(verbose=True) "
   ]
  },
  {
   "cell_type": "markdown",
   "metadata": {
    "slideshow": {
     "slide_type": "subslide"
    }
   },
   "source": [
    "# Running `doctest` From a Separate File"
   ]
  },
  {
   "cell_type": "markdown",
   "metadata": {
    "slideshow": {
     "slide_type": "subslide"
    }
   },
   "source": [
    "# Save the following in `tests.txt`\n",
    "\n",
    "```python\n",
    "The following are tests for dtest2.py\n",
    "\n",
    ">>> from dtest2 import double\n",
    ">>> double(4)\n",
    "8\n",
    ">>> double(9)\n",
    "18\n",
    "```"
   ]
  },
  {
   "cell_type": "markdown",
   "metadata": {
    "slideshow": {
     "slide_type": "subslide"
    }
   },
   "source": [
    "# Now run:\n",
    "\n",
    "`python3 -m doctest -v tests.txt`"
   ]
  },
  {
   "cell_type": "markdown",
   "metadata": {
    "slideshow": {
     "slide_type": "slide"
    }
   },
   "source": [
    "# Python's `unittest`\n",
    "\n",
    "[Python 3 Testing: An Intro to unittest](https://www.blog.pythonlibrary.org/2016/07/07/python-3-testing-an-intro-to-unittest/)"
   ]
  },
  {
   "cell_type": "markdown",
   "metadata": {
    "slideshow": {
     "slide_type": "subslide"
    }
   },
   "source": [
    "# `unittest` Supports\n",
    "\n",
    "- Test Fixture\n",
    "- Test Case\n",
    "- Test Suite\n",
    "- Test Runner"
   ]
  },
  {
   "cell_type": "markdown",
   "metadata": {
    "slideshow": {
     "slide_type": "subslide"
    }
   },
   "source": [
    "# Test Fixtures\n",
    "\n",
    "- Used for setup and teardown"
   ]
  },
  {
   "cell_type": "markdown",
   "metadata": {
    "slideshow": {
     "slide_type": "subslide"
    }
   },
   "source": [
    "# Test Case\n",
    "\n",
    "The actual test"
   ]
  },
  {
   "cell_type": "markdown",
   "metadata": {
    "slideshow": {
     "slide_type": "subslide"
    }
   },
   "source": [
    "# Test Suite\n",
    "\n",
    "A group of tests"
   ]
  },
  {
   "cell_type": "markdown",
   "metadata": {
    "slideshow": {
     "slide_type": "subslide"
    }
   },
   "source": [
    "# Test Runner\n",
    "\n",
    "A tool for running tests"
   ]
  },
  {
   "cell_type": "markdown",
   "metadata": {
    "slideshow": {
     "slide_type": "slide"
    }
   },
   "source": [
    "# You Need Code to Test"
   ]
  },
  {
   "cell_type": "code",
   "execution_count": null,
   "metadata": {
    "slideshow": {
     "slide_type": "subslide"
    }
   },
   "outputs": [],
   "source": [
    "# mymath.py\n",
    "\n",
    "def add(a, b):\n",
    "    return a + b\n",
    "\n",
    "\n",
    "def subtract(a, b):\n",
    "    return a - b\n",
    "\n",
    "\n",
    "def multiply(a, b):\n",
    "    return a * b\n",
    "\n",
    "\n",
    "def divide(numerator, denominator):\n",
    "    return float(numerator) / denominator"
   ]
  },
  {
   "cell_type": "markdown",
   "metadata": {
    "slideshow": {
     "slide_type": "slide"
    }
   },
   "source": [
    "# Adding a Test"
   ]
  },
  {
   "cell_type": "code",
   "execution_count": null,
   "metadata": {
    "slideshow": {
     "slide_type": "slide"
    }
   },
   "outputs": [],
   "source": [
    "# test_mymath.py\n",
    "\n",
    "import mymath\n",
    "import unittest\n",
    "\n",
    "class TestAdd(unittest.TestCase):\n",
    "\n",
    "    def test_add_integers(self):\n",
    "        \"\"\"\n",
    "        Test that the addition of two integers returns the correct total\n",
    "        \"\"\"\n",
    "        result = mymath.add(1, 2)\n",
    "        self.assertEqual(result, 3)\n",
    "    \n",
    "if __name__ == '__main__':\n",
    "    unittest.main()"
   ]
  },
  {
   "cell_type": "markdown",
   "metadata": {
    "slideshow": {
     "slide_type": "slide"
    }
   },
   "source": [
    "# Creating a Suite of Tests"
   ]
  },
  {
   "cell_type": "code",
   "execution_count": null,
   "metadata": {
    "slideshow": {
     "slide_type": "subslide"
    }
   },
   "outputs": [],
   "source": [
    "# test_mymath.py\n",
    "\n",
    "import mymath\n",
    "import unittest\n",
    "\n",
    "class TestAdd(unittest.TestCase):\n",
    "    \"\"\"\n",
    "    Test the add function from the mymath library\n",
    "    \"\"\"\n",
    "\n",
    "    def test_add_integers(self):\n",
    "        \"\"\"\n",
    "        Test that the addition of two integers returns the correct total\n",
    "        \"\"\"\n",
    "        result = mymath.add(1, 2)\n",
    "        self.assertEqual(result, 3)\n",
    "\n",
    "    def test_add_floats(self):\n",
    "        \"\"\"\n",
    "        Test that the addition of two floats returns the correct result\n",
    "        \"\"\"\n",
    "        result = mymath.add(10.5, 2)\n",
    "        self.assertEqual(result, 12.5)\n",
    "\n",
    "    def test_add_strings(self):\n",
    "        \"\"\"\n",
    "        Test the addition of two strings returns the two string as one\n",
    "        concatenated string\n",
    "        \"\"\"\n",
    "        result = mymath.add('abc', 'def')\n",
    "        self.assertEqual(result, 'abcdef')\n",
    "\n",
    "\n",
    "if __name__ == '__main__':\n",
    "    unittest.main()"
   ]
  },
  {
   "cell_type": "markdown",
   "metadata": {
    "slideshow": {
     "slide_type": "slide"
    }
   },
   "source": [
    "# Running Tests\n",
    "\n",
    "`python3 test_mymath.py`\n",
    "\n",
    "or in **verbose** mode\n",
    "\n",
    "`python3 test_mymath.py -v`"
   ]
  },
  {
   "cell_type": "markdown",
   "metadata": {
    "slideshow": {
     "slide_type": "slide"
    }
   },
   "source": [
    "# `unittest` has a Command-line Interface\n",
    "\n",
    "`python3 -m unittest -h`"
   ]
  },
  {
   "cell_type": "code",
   "execution_count": null,
   "metadata": {
    "slideshow": {
     "slide_type": "subslide"
    }
   },
   "outputs": [],
   "source": [
    "usage: python3 -m unittest [-h] [-v] [-q] [--locals] [-f] [-c] [-b]\n",
    "                           [tests [tests ...]]\n",
    "\n",
    "positional arguments:\n",
    "  tests           a list of any number of test modules, classes and test\n",
    "                  methods.\n",
    "\n",
    "optional arguments:\n",
    "  -h, --help      show this help message and exit\n",
    "  -v, --verbose   Verbose output\n",
    "  -q, --quiet     Quiet output\n",
    "  --locals        Show local variables in tracebacks\n",
    "  -f, --failfast  Stop on first fail or error\n",
    "  -c, --catch     Catch ctrl-C and display results so far\n",
    "  -b, --buffer    Buffer stdout and stderr during tests\n",
    "\n",
    "Examples:\n",
    "  python3 -m unittest test_module               - run tests from test_module\n",
    "  python3 -m unittest module.TestClass          - run tests from module.TestClass\n",
    "  python3 -m unittest module.Class.test_method  - run specified test method"
   ]
  },
  {
   "cell_type": "markdown",
   "metadata": {
    "slideshow": {
     "slide_type": "slide"
    }
   },
   "source": [
    "# Different Ways to Call Tests\n",
    "\n",
    "Remove `unittest.main()` from the code and then you can call:\n",
    "\n",
    "`python3 -m unittest test_mymath.py`"
   ]
  },
  {
   "cell_type": "markdown",
   "metadata": {
    "slideshow": {
     "slide_type": "slide"
    }
   },
   "source": [
    "# Call a Specific Test\n",
    "\n",
    "`python3 -m unittest test_mymath2.TestAdd.test_add_integers`"
   ]
  },
  {
   "cell_type": "markdown",
   "metadata": {
    "slideshow": {
     "slide_type": "slide"
    }
   },
   "source": [
    "# Call All Tests in a Class\n",
    "\n",
    "`python3 -m unittest test_mymath2.TestAdd`"
   ]
  },
  {
   "cell_type": "markdown",
   "metadata": {
    "slideshow": {
     "slide_type": "slide"
    }
   },
   "source": [
    "# Skipping a Test"
   ]
  },
  {
   "cell_type": "code",
   "execution_count": null,
   "metadata": {
    "slideshow": {
     "slide_type": "subslide"
    }
   },
   "outputs": [],
   "source": [
    "import mymath\n",
    "import sys\n",
    "import unittest\n",
    "\n",
    "class TestAdd(unittest.TestCase):\n",
    "\n",
    "    def test_add_integers(self):\n",
    "        result = mymath.add(1, 2)\n",
    "        self.assertEqual(result, 3)\n",
    "\n",
    "    @unittest.skip('Skip this test')  # Always skip this one\n",
    "    def test_add_strings(self):\n",
    "        \"\"\"\n",
    "        Test the addition of two strings returns the two string as one\n",
    "        concatenated string\n",
    "        \"\"\"\n",
    "        result = mymath.add('abc', 'def')\n",
    "        self.assertEqual(result, 'abcdef')\n",
    "\n",
    "    @unittest.skipUnless(sys.platform.startswith(\"win\"), \"requires Windows\")  # Skip unless on Windows\n",
    "    def test_adding_on_windows(self):\n",
    "        result = mymath.add(1, 2)\n",
    "        self.assertEqual(result, 3)"
   ]
  },
  {
   "cell_type": "markdown",
   "metadata": {
    "slideshow": {
     "slide_type": "slide"
    }
   },
   "source": [
    "# Setup and Teardown"
   ]
  },
  {
   "cell_type": "code",
   "execution_count": null,
   "metadata": {
    "slideshow": {
     "slide_type": "subslide"
    }
   },
   "outputs": [],
   "source": [
    "class TestMusicDatabase(unittest.TestCase):\n",
    "    \"\"\"\n",
    "    Test the music database\n",
    "    \"\"\"\n",
    "    \n",
    "    def setUp(self):\n",
    "        \"\"\"\n",
    "        Setup a temporary database\n",
    "        \"\"\"\n",
    "        conn = sqlite3.connect(\"mydatabase.db\")\n",
    "        cursor = conn.cursor()\n",
    "        # create a table\n",
    "        cursor.execute(\"\"\"CREATE TABLE albums\n",
    "                          (title text, artist text, release_date text,\n",
    "                           publisher text, media_type text)\n",
    "                       \"\"\")\n",
    "        # insert some data\n",
    "        cursor.execute(\"INSERT INTO albums VALUES \"\n",
    "                       \"('Glow', 'Andy Hunter', '7/24/2012',\"\n",
    "                       \"'Xplore Records', 'MP3')\")\n",
    "        # save data to database\n",
    "        conn.commit()\n",
    "        \n",
    "    def tearDown(self):\n",
    "        \"\"\"\n",
    "        Delete the database\n",
    "        \"\"\"\n",
    "        os.remove(\"mydatabase.db\")"
   ]
  },
  {
   "cell_type": "markdown",
   "metadata": {
    "slideshow": {
     "slide_type": "slide"
    }
   },
   "source": [
    "# Mocking\n",
    "\n",
    "[Python 201: An Intro to mock](https://www.blog.pythonlibrary.org/2016/07/19/python-201-an-intro-to-mock/)"
   ]
  },
  {
   "cell_type": "markdown",
   "metadata": {
    "slideshow": {
     "slide_type": "slide"
    }
   },
   "source": [
    "# What is a Mock?"
   ]
  },
  {
   "cell_type": "markdown",
   "metadata": {
    "slideshow": {
     "slide_type": "subslide"
    }
   },
   "source": [
    "### A mock object is used for simulating system resources that aren't available in your test environment.\n",
    "\n",
    "- Databases\n",
    "- Servers\n",
    "- AWS\n",
    "- Web APIs"
   ]
  },
  {
   "cell_type": "code",
   "execution_count": 14,
   "metadata": {
    "slideshow": {
     "slide_type": "subslide"
    }
   },
   "outputs": [
    {
     "data": {
      "text/plain": [
       "'Mocking'"
      ]
     },
     "execution_count": 14,
     "metadata": {},
     "output_type": "execute_result"
    }
   ],
   "source": [
    "from unittest.mock import Mock\n",
    "\n",
    "my_mock = Mock()\n",
    "my_mock.__str__ = Mock(return_value='Mocking')\n",
    "str(my_mock)"
   ]
  },
  {
   "cell_type": "markdown",
   "metadata": {
    "slideshow": {
     "slide_type": "slide"
    }
   },
   "source": [
    "# Mock Supports 5 Asserts\n",
    "\n",
    "Let's look at some of them!"
   ]
  },
  {
   "cell_type": "code",
   "execution_count": null,
   "metadata": {
    "slideshow": {
     "slide_type": "subslide"
    }
   },
   "outputs": [],
   "source": [
    ">>> from unittest.mock import Mock\n",
    ">>> class TestClass():\n",
    "...     pass\n",
    "... \n",
    ">>> cls = TestClass()\n",
    ">>> cls.method = Mock(return_value='mocking is fun')\n",
    ">>> cls.method(1, 2, 3)\n",
    "'mocking is fun'\n",
    ">>> cls.method.assert_called_once_with(1, 2, 3)\n",
    ">>> cls.method(1, 2, 3)\n",
    "'mocking is fun'\n",
    ">>> cls.method.assert_called_once_with(1, 2, 3)\n",
    "Traceback (most recent call last):\n",
    "  Python Shell, prompt 9, line 1\n",
    "  File \"/usr/local/lib/python3.5/unittest/mock.py\", line 802, in assert_called_once_with\n",
    "    raise AssertionError(msg)\n",
    "builtins.AssertionError: Expected 'mock' to be called once. Called 2 times.\n",
    ">>> cls.other_method = Mock(return_value='Something else')\n",
    ">>> cls.other_method.assert_not_called()\n",
    ">>>"
   ]
  },
  {
   "cell_type": "markdown",
   "metadata": {
    "slideshow": {
     "slide_type": "subslide"
    }
   },
   "source": [
    "# Side Effects"
   ]
  },
  {
   "cell_type": "markdown",
   "metadata": {
    "slideshow": {
     "slide_type": "subslide"
    }
   },
   "source": [
    "A side effect is something that happens when you run your function.\n",
    "\n",
    "Examples include:\n",
    "\n",
    " - Apps with social media integration\n",
    " - Saving data to a database may also update interface"
   ]
  },
  {
   "cell_type": "code",
   "execution_count": 15,
   "metadata": {
    "slideshow": {
     "slide_type": "subslide"
    }
   },
   "outputs": [
    {
     "ename": "SyntaxError",
     "evalue": "Error (<string>)",
     "output_type": "error",
     "traceback": [
      "Traceback \u001b[0;36m(most recent call last)\u001b[0m:\n",
      "  File \u001b[1;32m\"/Library/Frameworks/Python.framework/Versions/3.8/lib/python3.8/site-packages/IPython/core/interactiveshell.py\"\u001b[0m, line \u001b[1;32m3343\u001b[0m, in \u001b[1;35mrun_code\u001b[0m\n    exec(code_obj, self.user_global_ns, self.user_ns)\n",
      "  File \u001b[1;32m\"<ipython-input-15-11d5e66ba124>\"\u001b[0m, line \u001b[1;32m12\u001b[0m, in \u001b[1;35m<module>\u001b[0m\n    main()\n",
      "  File \u001b[1;32m\"<ipython-input-15-11d5e66ba124>\"\u001b[0m, line \u001b[1;32m9\u001b[0m, in \u001b[1;35mmain\u001b[0m\n    mock()\n",
      "  File \u001b[1;32m\"/Library/Frameworks/Python.framework/Versions/3.8/lib/python3.8/unittest/mock.py\"\u001b[0m, line \u001b[1;32m1075\u001b[0m, in \u001b[1;35m__call__\u001b[0m\n    return self._mock_call(*args, **kwargs)\n",
      "  File \u001b[1;32m\"/Library/Frameworks/Python.framework/Versions/3.8/lib/python3.8/unittest/mock.py\"\u001b[0m, line \u001b[1;32m1079\u001b[0m, in \u001b[1;35m_mock_call\u001b[0m\n    return self._execute_mock_call(*args, **kwargs)\n",
      "\u001b[0;36m  File \u001b[0;32m\"/Library/Frameworks/Python.framework/Versions/3.8/lib/python3.8/unittest/mock.py\"\u001b[0;36m, line \u001b[0;32m1134\u001b[0;36m, in \u001b[0;35m_execute_mock_call\u001b[0;36m\u001b[0m\n\u001b[0;31m    raise effect\u001b[0m\n",
      "\u001b[0;36m  File \u001b[0;32m\"<string>\"\u001b[0;36m, line \u001b[0;32munknown\u001b[0m\n\u001b[0;31mSyntaxError\u001b[0m\u001b[0;31m:\u001b[0m Error\n"
     ]
    }
   ],
   "source": [
    "from unittest.mock import Mock\n",
    "\n",
    "\n",
    "def my_side_effect():\n",
    "    print('Updating database!')\n",
    "    \n",
    "def main():\n",
    "    mock = Mock(side_effect=my_side_effect)\n",
    "    mock()\n",
    "     \n",
    "if __name__ == '__main__':\n",
    "    main()"
   ]
  },
  {
   "cell_type": "markdown",
   "metadata": {
    "slideshow": {
     "slide_type": "subslide"
    }
   },
   "source": [
    "# The Autospec\n",
    "\n",
    "The autospec allows you to create mock objects that contain the same attributes and methods of the objects that you are replacing with your mock."
   ]
  },
  {
   "cell_type": "code",
   "execution_count": null,
   "metadata": {
    "slideshow": {
     "slide_type": "subslide"
    }
   },
   "outputs": [],
   "source": [
    ">>> from unittest.mock import create_autospec\n",
    ">>> def add(a, b):\n",
    "...     return a + b\n",
    "... \n",
    ">>> mocked_func = create_autospec(add, return_value=10)\n",
    ">>> mocked_func(1, 2)\n",
    "10\n",
    ">>> mocked_func(1, 2, 3)\n",
    "Traceback (most recent call last):\n",
    "  Python Shell, prompt 5, line 1\n",
    "  File \"\", line 2, in add\n",
    "  File \"/Library/Frameworks/Python.framework/Versions/3.10/lib/python3.10/unittest/mock.py\", line 181, in checksig\n",
    "    sig.bind(*args, **kwargs)\n",
    "  File \"/Library/Frameworks/Python.framework/Versions/3.10/lib/python3.10/inspect.py\", line 2921, in bind\n",
    "    return args[0]._bind(args[1:], kwargs)\n",
    "  File \"/Library/Frameworks/Python.framework/Versions/3.10/lib/python3.10/inspect.py\", line 2842, in _bind\n",
    "    raise TypeError('too many positional arguments') from None\n",
    "builtins.TypeError: too many positional arguments"
   ]
  },
  {
   "cell_type": "markdown",
   "metadata": {
    "slideshow": {
     "slide_type": "subslide"
    }
   },
   "source": [
    "# Patches"
   ]
  },
  {
   "cell_type": "markdown",
   "metadata": {
    "slideshow": {
     "slide_type": "subslide"
    }
   },
   "source": [
    "Patches can be used as\n",
    "\n",
    "- 🐍 a function decorator\n",
    "- 🐍 a class decorator \n",
    "- 🐍 a context manager"
   ]
  },
  {
   "cell_type": "code",
   "execution_count": null,
   "metadata": {
    "slideshow": {
     "slide_type": "subslide"
    }
   },
   "outputs": [],
   "source": [
    "# webreader.py\n",
    "\n",
    "import urllib.request\n",
    "\n",
    "\n",
    "def read_webpage(url):\n",
    "    response = urllib.request.urlopen(url)\n",
    "    return response.read()"
   ]
  },
  {
   "cell_type": "code",
   "execution_count": null,
   "metadata": {
    "slideshow": {
     "slide_type": "subslide"
    }
   },
   "outputs": [],
   "source": [
    "import webreader\n",
    "\n",
    "from unittest.mock import patch\n",
    "\n",
    "\n",
    "@patch('urllib.request.urlopen')\n",
    "def dummy_reader(mock_obj):\n",
    "    result = webreader.read_webpage('https://www.google.com/')\n",
    "    mock_obj.assert_called_with('https://www.google.com/')\n",
    "    print(result)\n",
    "    \n",
    "if __name__ == '__main__':\n",
    "    dummy_reader()"
   ]
  },
  {
   "cell_type": "markdown",
   "metadata": {
    "slideshow": {
     "slide_type": "subslide"
    }
   },
   "source": [
    "# Questions"
   ]
  }
 ],
 "metadata": {
  "celltoolbar": "Slideshow",
  "kernelspec": {
   "display_name": "Python 3",
   "language": "python",
   "name": "python3"
  },
  "language_info": {
   "codemirror_mode": {
    "name": "ipython",
    "version": 3
   },
   "file_extension": ".py",
   "mimetype": "text/x-python",
   "name": "python",
   "nbconvert_exporter": "python",
   "pygments_lexer": "ipython3",
   "version": "3.8.1"
  }
 },
 "nbformat": 4,
 "nbformat_minor": 4
}
